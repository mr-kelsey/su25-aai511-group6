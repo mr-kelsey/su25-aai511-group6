{
  "cells": [
    {
      "cell_type": "code",
      "source": [
        "# Clone the repo to access Data/, code/, etc.\n",
        "!git clone https://github.com/mr-kelsey/su25-aai511-group6.git\n",
        "%cd su25-aai511-group6\n",
        "import os\n",
        "print(\"Working directory:\", os.getcwd())\n",
        "\n"
      ],
      "metadata": {
        "id": "SCZ81S8hyGuZ",
        "outputId": "8bc824a1-62ee-47a5-84b6-c1a9efa94e70",
        "colab": {
          "base_uri": "https://localhost:8080/"
        }
      },
      "id": "SCZ81S8hyGuZ",
      "execution_count": 1,
      "outputs": [
        {
          "output_type": "stream",
          "name": "stdout",
          "text": [
            "Cloning into 'su25-aai511-group6'...\n",
            "remote: Enumerating objects: 3231, done.\u001b[K\n",
            "remote: Counting objects: 100% (3231/3231), done.\u001b[K\n",
            "remote: Compressing objects: 100% (3157/3157), done.\u001b[K\n",
            "remote: Total 3231 (delta 90), reused 3190 (delta 66), pack-reused 0 (from 0)\u001b[K\n",
            "Receiving objects: 100% (3231/3231), 26.22 MiB | 3.62 MiB/s, done.\n",
            "Resolving deltas: 100% (90/90), done.\n",
            "/content/su25-aai511-group6\n",
            "Working directory: /content/su25-aai511-group6\n"
          ]
        }
      ]
    },
    {
      "cell_type": "code",
      "source": [
        "!ls /content\n"
      ],
      "metadata": {
        "colab": {
          "base_uri": "https://localhost:8080/"
        },
        "id": "8XJue2pwjv0i",
        "outputId": "301f6bb8-8446-49e0-fe07-cb8ed5c5e465"
      },
      "id": "8XJue2pwjv0i",
      "execution_count": 2,
      "outputs": [
        {
          "output_type": "stream",
          "name": "stdout",
          "text": [
            "sample_data  su25-aai511-group6\n"
          ]
        }
      ]
    },
    {
      "cell_type": "code",
      "source": [
        "from pathlib import Path\n",
        "\n",
        "DATA_PATH = Path(\"Data\")\n",
        "AUG_PATH = DATA_PATH / \"Augmented\"\n",
        "midi_paths = list(AUG_PATH.glob(\"**/*.mid\"))\n",
        "print(f\"✅ Found {len(midi_paths)} MIDI files\")\n"
      ],
      "metadata": {
        "colab": {
          "base_uri": "https://localhost:8080/"
        },
        "id": "t98HeL_U7qbJ",
        "outputId": "4eeaa84a-3dfc-427e-d13b-b679aad4235c"
      },
      "id": "t98HeL_U7qbJ",
      "execution_count": 3,
      "outputs": [
        {
          "output_type": "stream",
          "name": "stdout",
          "text": [
            "✅ Found 400 MIDI files\n"
          ]
        }
      ]
    },
    {
      "cell_type": "code",
      "source": [
        "!pip install miditok\n"
      ],
      "metadata": {
        "colab": {
          "base_uri": "https://localhost:8080/"
        },
        "id": "6fyVkNRgzZA6",
        "outputId": "0a04f6b4-995d-4f59-97df-d68432b09439"
      },
      "id": "6fyVkNRgzZA6",
      "execution_count": 4,
      "outputs": [
        {
          "output_type": "stream",
          "name": "stdout",
          "text": [
            "Collecting miditok\n",
            "  Downloading miditok-3.0.6.post1-py3-none-any.whl.metadata (10 kB)\n",
            "Requirement already satisfied: huggingface-hub>=0.16.4 in /usr/local/lib/python3.11/dist-packages (from miditok) (0.33.4)\n",
            "Requirement already satisfied: numpy>=1.19 in /usr/local/lib/python3.11/dist-packages (from miditok) (2.0.2)\n",
            "Collecting symusic>=0.5.0 (from miditok)\n",
            "  Downloading symusic-0.5.8-cp311-cp311-manylinux_2_27_x86_64.manylinux_2_28_x86_64.whl.metadata (9.0 kB)\n",
            "Requirement already satisfied: tokenizers>=0.13.0 in /usr/local/lib/python3.11/dist-packages (from miditok) (0.21.2)\n",
            "Requirement already satisfied: tqdm in /usr/local/lib/python3.11/dist-packages (from miditok) (4.67.1)\n",
            "Requirement already satisfied: filelock in /usr/local/lib/python3.11/dist-packages (from huggingface-hub>=0.16.4->miditok) (3.18.0)\n",
            "Requirement already satisfied: fsspec>=2023.5.0 in /usr/local/lib/python3.11/dist-packages (from huggingface-hub>=0.16.4->miditok) (2025.3.0)\n",
            "Requirement already satisfied: packaging>=20.9 in /usr/local/lib/python3.11/dist-packages (from huggingface-hub>=0.16.4->miditok) (25.0)\n",
            "Requirement already satisfied: pyyaml>=5.1 in /usr/local/lib/python3.11/dist-packages (from huggingface-hub>=0.16.4->miditok) (6.0.2)\n",
            "Requirement already satisfied: requests in /usr/local/lib/python3.11/dist-packages (from huggingface-hub>=0.16.4->miditok) (2.32.3)\n",
            "Requirement already satisfied: typing-extensions>=3.7.4.3 in /usr/local/lib/python3.11/dist-packages (from huggingface-hub>=0.16.4->miditok) (4.14.1)\n",
            "Requirement already satisfied: hf-xet<2.0.0,>=1.1.2 in /usr/local/lib/python3.11/dist-packages (from huggingface-hub>=0.16.4->miditok) (1.1.5)\n",
            "Collecting pySmartDL (from symusic>=0.5.0->miditok)\n",
            "  Downloading pySmartDL-1.3.4-py3-none-any.whl.metadata (2.8 kB)\n",
            "Requirement already satisfied: platformdirs in /usr/local/lib/python3.11/dist-packages (from symusic>=0.5.0->miditok) (4.3.8)\n",
            "Requirement already satisfied: charset-normalizer<4,>=2 in /usr/local/lib/python3.11/dist-packages (from requests->huggingface-hub>=0.16.4->miditok) (3.4.2)\n",
            "Requirement already satisfied: idna<4,>=2.5 in /usr/local/lib/python3.11/dist-packages (from requests->huggingface-hub>=0.16.4->miditok) (3.10)\n",
            "Requirement already satisfied: urllib3<3,>=1.21.1 in /usr/local/lib/python3.11/dist-packages (from requests->huggingface-hub>=0.16.4->miditok) (2.5.0)\n",
            "Requirement already satisfied: certifi>=2017.4.17 in /usr/local/lib/python3.11/dist-packages (from requests->huggingface-hub>=0.16.4->miditok) (2025.7.14)\n",
            "Downloading miditok-3.0.6.post1-py3-none-any.whl (159 kB)\n",
            "\u001b[2K   \u001b[90m━━━━━━━━━━━━━━━━━━━━━━━━━━━━━━━━━━━━━━━━\u001b[0m \u001b[32m159.0/159.0 kB\u001b[0m \u001b[31m4.3 MB/s\u001b[0m eta \u001b[36m0:00:00\u001b[0m\n",
            "\u001b[?25hDownloading symusic-0.5.8-cp311-cp311-manylinux_2_27_x86_64.manylinux_2_28_x86_64.whl (2.5 MB)\n",
            "\u001b[2K   \u001b[90m━━━━━━━━━━━━━━━━━━━━━━━━━━━━━━━━━━━━━━━━\u001b[0m \u001b[32m2.5/2.5 MB\u001b[0m \u001b[31m49.5 MB/s\u001b[0m eta \u001b[36m0:00:00\u001b[0m\n",
            "\u001b[?25hDownloading pySmartDL-1.3.4-py3-none-any.whl (20 kB)\n",
            "Installing collected packages: pySmartDL, symusic, miditok\n",
            "Successfully installed miditok-3.0.6.post1 pySmartDL-1.3.4 symusic-0.5.8\n"
          ]
        }
      ]
    },
    {
      "cell_type": "code",
      "source": [
        "!pip install miditok miditoolkit torchmetrics matplotlib tqdm ipywidgets\n"
      ],
      "metadata": {
        "colab": {
          "base_uri": "https://localhost:8080/"
        },
        "id": "Y2ySmfmFz8Gn",
        "outputId": "7067b603-1736-4632-ab1b-8d627db35d32"
      },
      "id": "Y2ySmfmFz8Gn",
      "execution_count": 5,
      "outputs": [
        {
          "output_type": "stream",
          "name": "stdout",
          "text": [
            "Requirement already satisfied: miditok in /usr/local/lib/python3.11/dist-packages (3.0.6.post1)\n",
            "Collecting miditoolkit\n",
            "  Downloading miditoolkit-1.0.1-py3-none-any.whl.metadata (4.9 kB)\n",
            "Collecting torchmetrics\n",
            "  Downloading torchmetrics-1.8.0-py3-none-any.whl.metadata (21 kB)\n",
            "Requirement already satisfied: matplotlib in /usr/local/lib/python3.11/dist-packages (3.10.0)\n",
            "Requirement already satisfied: tqdm in /usr/local/lib/python3.11/dist-packages (4.67.1)\n",
            "Requirement already satisfied: ipywidgets in /usr/local/lib/python3.11/dist-packages (7.7.1)\n",
            "Requirement already satisfied: huggingface-hub>=0.16.4 in /usr/local/lib/python3.11/dist-packages (from miditok) (0.33.4)\n",
            "Requirement already satisfied: numpy>=1.19 in /usr/local/lib/python3.11/dist-packages (from miditok) (2.0.2)\n",
            "Requirement already satisfied: symusic>=0.5.0 in /usr/local/lib/python3.11/dist-packages (from miditok) (0.5.8)\n",
            "Requirement already satisfied: tokenizers>=0.13.0 in /usr/local/lib/python3.11/dist-packages (from miditok) (0.21.2)\n",
            "Collecting mido>=1.1.16 (from miditoolkit)\n",
            "  Downloading mido-1.3.3-py3-none-any.whl.metadata (6.4 kB)\n",
            "Requirement already satisfied: packaging>17.1 in /usr/local/lib/python3.11/dist-packages (from torchmetrics) (25.0)\n",
            "Requirement already satisfied: torch>=2.0.0 in /usr/local/lib/python3.11/dist-packages (from torchmetrics) (2.6.0+cu124)\n",
            "Collecting lightning-utilities>=0.8.0 (from torchmetrics)\n",
            "  Downloading lightning_utilities-0.14.3-py3-none-any.whl.metadata (5.6 kB)\n",
            "Requirement already satisfied: contourpy>=1.0.1 in /usr/local/lib/python3.11/dist-packages (from matplotlib) (1.3.2)\n",
            "Requirement already satisfied: cycler>=0.10 in /usr/local/lib/python3.11/dist-packages (from matplotlib) (0.12.1)\n",
            "Requirement already satisfied: fonttools>=4.22.0 in /usr/local/lib/python3.11/dist-packages (from matplotlib) (4.59.0)\n",
            "Requirement already satisfied: kiwisolver>=1.3.1 in /usr/local/lib/python3.11/dist-packages (from matplotlib) (1.4.8)\n",
            "Requirement already satisfied: pillow>=8 in /usr/local/lib/python3.11/dist-packages (from matplotlib) (11.3.0)\n",
            "Requirement already satisfied: pyparsing>=2.3.1 in /usr/local/lib/python3.11/dist-packages (from matplotlib) (3.2.3)\n",
            "Requirement already satisfied: python-dateutil>=2.7 in /usr/local/lib/python3.11/dist-packages (from matplotlib) (2.9.0.post0)\n",
            "Requirement already satisfied: ipykernel>=4.5.1 in /usr/local/lib/python3.11/dist-packages (from ipywidgets) (6.17.1)\n",
            "Requirement already satisfied: ipython-genutils~=0.2.0 in /usr/local/lib/python3.11/dist-packages (from ipywidgets) (0.2.0)\n",
            "Requirement already satisfied: traitlets>=4.3.1 in /usr/local/lib/python3.11/dist-packages (from ipywidgets) (5.7.1)\n",
            "Requirement already satisfied: widgetsnbextension~=3.6.0 in /usr/local/lib/python3.11/dist-packages (from ipywidgets) (3.6.10)\n",
            "Requirement already satisfied: ipython>=4.0.0 in /usr/local/lib/python3.11/dist-packages (from ipywidgets) (7.34.0)\n",
            "Requirement already satisfied: jupyterlab-widgets>=1.0.0 in /usr/local/lib/python3.11/dist-packages (from ipywidgets) (3.0.15)\n",
            "Requirement already satisfied: filelock in /usr/local/lib/python3.11/dist-packages (from huggingface-hub>=0.16.4->miditok) (3.18.0)\n",
            "Requirement already satisfied: fsspec>=2023.5.0 in /usr/local/lib/python3.11/dist-packages (from huggingface-hub>=0.16.4->miditok) (2025.3.0)\n",
            "Requirement already satisfied: pyyaml>=5.1 in /usr/local/lib/python3.11/dist-packages (from huggingface-hub>=0.16.4->miditok) (6.0.2)\n",
            "Requirement already satisfied: requests in /usr/local/lib/python3.11/dist-packages (from huggingface-hub>=0.16.4->miditok) (2.32.3)\n",
            "Requirement already satisfied: typing-extensions>=3.7.4.3 in /usr/local/lib/python3.11/dist-packages (from huggingface-hub>=0.16.4->miditok) (4.14.1)\n",
            "Requirement already satisfied: hf-xet<2.0.0,>=1.1.2 in /usr/local/lib/python3.11/dist-packages (from huggingface-hub>=0.16.4->miditok) (1.1.5)\n",
            "Requirement already satisfied: debugpy>=1.0 in /usr/local/lib/python3.11/dist-packages (from ipykernel>=4.5.1->ipywidgets) (1.8.15)\n",
            "Requirement already satisfied: jupyter-client>=6.1.12 in /usr/local/lib/python3.11/dist-packages (from ipykernel>=4.5.1->ipywidgets) (6.1.12)\n",
            "Requirement already satisfied: matplotlib-inline>=0.1 in /usr/local/lib/python3.11/dist-packages (from ipykernel>=4.5.1->ipywidgets) (0.1.7)\n",
            "Requirement already satisfied: nest-asyncio in /usr/local/lib/python3.11/dist-packages (from ipykernel>=4.5.1->ipywidgets) (1.6.0)\n",
            "Requirement already satisfied: psutil in /usr/local/lib/python3.11/dist-packages (from ipykernel>=4.5.1->ipywidgets) (5.9.5)\n",
            "Requirement already satisfied: pyzmq>=17 in /usr/local/lib/python3.11/dist-packages (from ipykernel>=4.5.1->ipywidgets) (24.0.1)\n",
            "Requirement already satisfied: tornado>=6.1 in /usr/local/lib/python3.11/dist-packages (from ipykernel>=4.5.1->ipywidgets) (6.4.2)\n",
            "Requirement already satisfied: setuptools>=18.5 in /usr/local/lib/python3.11/dist-packages (from ipython>=4.0.0->ipywidgets) (75.2.0)\n",
            "Collecting jedi>=0.16 (from ipython>=4.0.0->ipywidgets)\n",
            "  Downloading jedi-0.19.2-py2.py3-none-any.whl.metadata (22 kB)\n",
            "Requirement already satisfied: decorator in /usr/local/lib/python3.11/dist-packages (from ipython>=4.0.0->ipywidgets) (4.4.2)\n",
            "Requirement already satisfied: pickleshare in /usr/local/lib/python3.11/dist-packages (from ipython>=4.0.0->ipywidgets) (0.7.5)\n",
            "Requirement already satisfied: prompt-toolkit!=3.0.0,!=3.0.1,<3.1.0,>=2.0.0 in /usr/local/lib/python3.11/dist-packages (from ipython>=4.0.0->ipywidgets) (3.0.51)\n",
            "Requirement already satisfied: pygments in /usr/local/lib/python3.11/dist-packages (from ipython>=4.0.0->ipywidgets) (2.19.2)\n",
            "Requirement already satisfied: backcall in /usr/local/lib/python3.11/dist-packages (from ipython>=4.0.0->ipywidgets) (0.2.0)\n",
            "Requirement already satisfied: pexpect>4.3 in /usr/local/lib/python3.11/dist-packages (from ipython>=4.0.0->ipywidgets) (4.9.0)\n",
            "Requirement already satisfied: six>=1.5 in /usr/local/lib/python3.11/dist-packages (from python-dateutil>=2.7->matplotlib) (1.17.0)\n",
            "Requirement already satisfied: pySmartDL in /usr/local/lib/python3.11/dist-packages (from symusic>=0.5.0->miditok) (1.3.4)\n",
            "Requirement already satisfied: platformdirs in /usr/local/lib/python3.11/dist-packages (from symusic>=0.5.0->miditok) (4.3.8)\n",
            "Requirement already satisfied: networkx in /usr/local/lib/python3.11/dist-packages (from torch>=2.0.0->torchmetrics) (3.5)\n",
            "Requirement already satisfied: jinja2 in /usr/local/lib/python3.11/dist-packages (from torch>=2.0.0->torchmetrics) (3.1.6)\n",
            "Collecting nvidia-cuda-nvrtc-cu12==12.4.127 (from torch>=2.0.0->torchmetrics)\n",
            "  Downloading nvidia_cuda_nvrtc_cu12-12.4.127-py3-none-manylinux2014_x86_64.whl.metadata (1.5 kB)\n",
            "Collecting nvidia-cuda-runtime-cu12==12.4.127 (from torch>=2.0.0->torchmetrics)\n",
            "  Downloading nvidia_cuda_runtime_cu12-12.4.127-py3-none-manylinux2014_x86_64.whl.metadata (1.5 kB)\n",
            "Collecting nvidia-cuda-cupti-cu12==12.4.127 (from torch>=2.0.0->torchmetrics)\n",
            "  Downloading nvidia_cuda_cupti_cu12-12.4.127-py3-none-manylinux2014_x86_64.whl.metadata (1.6 kB)\n",
            "Collecting nvidia-cudnn-cu12==9.1.0.70 (from torch>=2.0.0->torchmetrics)\n",
            "  Downloading nvidia_cudnn_cu12-9.1.0.70-py3-none-manylinux2014_x86_64.whl.metadata (1.6 kB)\n",
            "Collecting nvidia-cublas-cu12==12.4.5.8 (from torch>=2.0.0->torchmetrics)\n",
            "  Downloading nvidia_cublas_cu12-12.4.5.8-py3-none-manylinux2014_x86_64.whl.metadata (1.5 kB)\n",
            "Collecting nvidia-cufft-cu12==11.2.1.3 (from torch>=2.0.0->torchmetrics)\n",
            "  Downloading nvidia_cufft_cu12-11.2.1.3-py3-none-manylinux2014_x86_64.whl.metadata (1.5 kB)\n",
            "Collecting nvidia-curand-cu12==10.3.5.147 (from torch>=2.0.0->torchmetrics)\n",
            "  Downloading nvidia_curand_cu12-10.3.5.147-py3-none-manylinux2014_x86_64.whl.metadata (1.5 kB)\n",
            "Collecting nvidia-cusolver-cu12==11.6.1.9 (from torch>=2.0.0->torchmetrics)\n",
            "  Downloading nvidia_cusolver_cu12-11.6.1.9-py3-none-manylinux2014_x86_64.whl.metadata (1.6 kB)\n",
            "Collecting nvidia-cusparse-cu12==12.3.1.170 (from torch>=2.0.0->torchmetrics)\n",
            "  Downloading nvidia_cusparse_cu12-12.3.1.170-py3-none-manylinux2014_x86_64.whl.metadata (1.6 kB)\n",
            "Requirement already satisfied: nvidia-cusparselt-cu12==0.6.2 in /usr/local/lib/python3.11/dist-packages (from torch>=2.0.0->torchmetrics) (0.6.2)\n",
            "Requirement already satisfied: nvidia-nccl-cu12==2.21.5 in /usr/local/lib/python3.11/dist-packages (from torch>=2.0.0->torchmetrics) (2.21.5)\n",
            "Requirement already satisfied: nvidia-nvtx-cu12==12.4.127 in /usr/local/lib/python3.11/dist-packages (from torch>=2.0.0->torchmetrics) (12.4.127)\n",
            "Collecting nvidia-nvjitlink-cu12==12.4.127 (from torch>=2.0.0->torchmetrics)\n",
            "  Downloading nvidia_nvjitlink_cu12-12.4.127-py3-none-manylinux2014_x86_64.whl.metadata (1.5 kB)\n",
            "Requirement already satisfied: triton==3.2.0 in /usr/local/lib/python3.11/dist-packages (from torch>=2.0.0->torchmetrics) (3.2.0)\n",
            "Requirement already satisfied: sympy==1.13.1 in /usr/local/lib/python3.11/dist-packages (from torch>=2.0.0->torchmetrics) (1.13.1)\n",
            "Requirement already satisfied: mpmath<1.4,>=1.1.0 in /usr/local/lib/python3.11/dist-packages (from sympy==1.13.1->torch>=2.0.0->torchmetrics) (1.3.0)\n",
            "Requirement already satisfied: notebook>=4.4.1 in /usr/local/lib/python3.11/dist-packages (from widgetsnbextension~=3.6.0->ipywidgets) (6.5.7)\n",
            "Requirement already satisfied: parso<0.9.0,>=0.8.4 in /usr/local/lib/python3.11/dist-packages (from jedi>=0.16->ipython>=4.0.0->ipywidgets) (0.8.4)\n",
            "Requirement already satisfied: jupyter-core>=4.6.0 in /usr/local/lib/python3.11/dist-packages (from jupyter-client>=6.1.12->ipykernel>=4.5.1->ipywidgets) (5.8.1)\n",
            "Requirement already satisfied: argon2-cffi in /usr/local/lib/python3.11/dist-packages (from notebook>=4.4.1->widgetsnbextension~=3.6.0->ipywidgets) (25.1.0)\n",
            "Requirement already satisfied: nbformat in /usr/local/lib/python3.11/dist-packages (from notebook>=4.4.1->widgetsnbextension~=3.6.0->ipywidgets) (5.10.4)\n",
            "Requirement already satisfied: nbconvert>=5 in /usr/local/lib/python3.11/dist-packages (from notebook>=4.4.1->widgetsnbextension~=3.6.0->ipywidgets) (7.16.6)\n",
            "Requirement already satisfied: Send2Trash>=1.8.0 in /usr/local/lib/python3.11/dist-packages (from notebook>=4.4.1->widgetsnbextension~=3.6.0->ipywidgets) (1.8.3)\n",
            "Requirement already satisfied: terminado>=0.8.3 in /usr/local/lib/python3.11/dist-packages (from notebook>=4.4.1->widgetsnbextension~=3.6.0->ipywidgets) (0.18.1)\n",
            "Requirement already satisfied: prometheus-client in /usr/local/lib/python3.11/dist-packages (from notebook>=4.4.1->widgetsnbextension~=3.6.0->ipywidgets) (0.22.1)\n",
            "Requirement already satisfied: nbclassic>=0.4.7 in /usr/local/lib/python3.11/dist-packages (from notebook>=4.4.1->widgetsnbextension~=3.6.0->ipywidgets) (1.3.1)\n",
            "Requirement already satisfied: ptyprocess>=0.5 in /usr/local/lib/python3.11/dist-packages (from pexpect>4.3->ipython>=4.0.0->ipywidgets) (0.7.0)\n",
            "Requirement already satisfied: wcwidth in /usr/local/lib/python3.11/dist-packages (from prompt-toolkit!=3.0.0,!=3.0.1,<3.1.0,>=2.0.0->ipython>=4.0.0->ipywidgets) (0.2.13)\n",
            "Requirement already satisfied: MarkupSafe>=2.0 in /usr/local/lib/python3.11/dist-packages (from jinja2->torch>=2.0.0->torchmetrics) (3.0.2)\n",
            "Requirement already satisfied: charset-normalizer<4,>=2 in /usr/local/lib/python3.11/dist-packages (from requests->huggingface-hub>=0.16.4->miditok) (3.4.2)\n",
            "Requirement already satisfied: idna<4,>=2.5 in /usr/local/lib/python3.11/dist-packages (from requests->huggingface-hub>=0.16.4->miditok) (3.10)\n",
            "Requirement already satisfied: urllib3<3,>=1.21.1 in /usr/local/lib/python3.11/dist-packages (from requests->huggingface-hub>=0.16.4->miditok) (2.5.0)\n",
            "Requirement already satisfied: certifi>=2017.4.17 in /usr/local/lib/python3.11/dist-packages (from requests->huggingface-hub>=0.16.4->miditok) (2025.7.14)\n",
            "Requirement already satisfied: notebook-shim>=0.2.3 in /usr/local/lib/python3.11/dist-packages (from nbclassic>=0.4.7->notebook>=4.4.1->widgetsnbextension~=3.6.0->ipywidgets) (0.2.4)\n",
            "Requirement already satisfied: beautifulsoup4 in /usr/local/lib/python3.11/dist-packages (from nbconvert>=5->notebook>=4.4.1->widgetsnbextension~=3.6.0->ipywidgets) (4.13.4)\n",
            "Requirement already satisfied: bleach!=5.0.0 in /usr/local/lib/python3.11/dist-packages (from bleach[css]!=5.0.0->nbconvert>=5->notebook>=4.4.1->widgetsnbextension~=3.6.0->ipywidgets) (6.2.0)\n",
            "Requirement already satisfied: defusedxml in /usr/local/lib/python3.11/dist-packages (from nbconvert>=5->notebook>=4.4.1->widgetsnbextension~=3.6.0->ipywidgets) (0.7.1)\n",
            "Requirement already satisfied: jupyterlab-pygments in /usr/local/lib/python3.11/dist-packages (from nbconvert>=5->notebook>=4.4.1->widgetsnbextension~=3.6.0->ipywidgets) (0.3.0)\n",
            "Requirement already satisfied: mistune<4,>=2.0.3 in /usr/local/lib/python3.11/dist-packages (from nbconvert>=5->notebook>=4.4.1->widgetsnbextension~=3.6.0->ipywidgets) (3.1.3)\n",
            "Requirement already satisfied: nbclient>=0.5.0 in /usr/local/lib/python3.11/dist-packages (from nbconvert>=5->notebook>=4.4.1->widgetsnbextension~=3.6.0->ipywidgets) (0.10.2)\n",
            "Requirement already satisfied: pandocfilters>=1.4.1 in /usr/local/lib/python3.11/dist-packages (from nbconvert>=5->notebook>=4.4.1->widgetsnbextension~=3.6.0->ipywidgets) (1.5.1)\n",
            "Requirement already satisfied: fastjsonschema>=2.15 in /usr/local/lib/python3.11/dist-packages (from nbformat->notebook>=4.4.1->widgetsnbextension~=3.6.0->ipywidgets) (2.21.1)\n",
            "Requirement already satisfied: jsonschema>=2.6 in /usr/local/lib/python3.11/dist-packages (from nbformat->notebook>=4.4.1->widgetsnbextension~=3.6.0->ipywidgets) (4.25.0)\n",
            "Requirement already satisfied: argon2-cffi-bindings in /usr/local/lib/python3.11/dist-packages (from argon2-cffi->notebook>=4.4.1->widgetsnbextension~=3.6.0->ipywidgets) (21.2.0)\n",
            "Requirement already satisfied: webencodings in /usr/local/lib/python3.11/dist-packages (from bleach!=5.0.0->bleach[css]!=5.0.0->nbconvert>=5->notebook>=4.4.1->widgetsnbextension~=3.6.0->ipywidgets) (0.5.1)\n",
            "Requirement already satisfied: tinycss2<1.5,>=1.1.0 in /usr/local/lib/python3.11/dist-packages (from bleach[css]!=5.0.0->nbconvert>=5->notebook>=4.4.1->widgetsnbextension~=3.6.0->ipywidgets) (1.4.0)\n",
            "Requirement already satisfied: attrs>=22.2.0 in /usr/local/lib/python3.11/dist-packages (from jsonschema>=2.6->nbformat->notebook>=4.4.1->widgetsnbextension~=3.6.0->ipywidgets) (25.3.0)\n",
            "Requirement already satisfied: jsonschema-specifications>=2023.03.6 in /usr/local/lib/python3.11/dist-packages (from jsonschema>=2.6->nbformat->notebook>=4.4.1->widgetsnbextension~=3.6.0->ipywidgets) (2025.4.1)\n",
            "Requirement already satisfied: referencing>=0.28.4 in /usr/local/lib/python3.11/dist-packages (from jsonschema>=2.6->nbformat->notebook>=4.4.1->widgetsnbextension~=3.6.0->ipywidgets) (0.36.2)\n",
            "Requirement already satisfied: rpds-py>=0.7.1 in /usr/local/lib/python3.11/dist-packages (from jsonschema>=2.6->nbformat->notebook>=4.4.1->widgetsnbextension~=3.6.0->ipywidgets) (0.26.0)\n",
            "Requirement already satisfied: jupyter-server<3,>=1.8 in /usr/local/lib/python3.11/dist-packages (from notebook-shim>=0.2.3->nbclassic>=0.4.7->notebook>=4.4.1->widgetsnbextension~=3.6.0->ipywidgets) (1.16.0)\n",
            "Requirement already satisfied: cffi>=1.0.1 in /usr/local/lib/python3.11/dist-packages (from argon2-cffi-bindings->argon2-cffi->notebook>=4.4.1->widgetsnbextension~=3.6.0->ipywidgets) (1.17.1)\n",
            "Requirement already satisfied: soupsieve>1.2 in /usr/local/lib/python3.11/dist-packages (from beautifulsoup4->nbconvert>=5->notebook>=4.4.1->widgetsnbextension~=3.6.0->ipywidgets) (2.7)\n",
            "Requirement already satisfied: pycparser in /usr/local/lib/python3.11/dist-packages (from cffi>=1.0.1->argon2-cffi-bindings->argon2-cffi->notebook>=4.4.1->widgetsnbextension~=3.6.0->ipywidgets) (2.22)\n",
            "Requirement already satisfied: anyio>=3.1.0 in /usr/local/lib/python3.11/dist-packages (from jupyter-server<3,>=1.8->notebook-shim>=0.2.3->nbclassic>=0.4.7->notebook>=4.4.1->widgetsnbextension~=3.6.0->ipywidgets) (4.9.0)\n",
            "Requirement already satisfied: websocket-client in /usr/local/lib/python3.11/dist-packages (from jupyter-server<3,>=1.8->notebook-shim>=0.2.3->nbclassic>=0.4.7->notebook>=4.4.1->widgetsnbextension~=3.6.0->ipywidgets) (1.8.0)\n",
            "Requirement already satisfied: sniffio>=1.1 in /usr/local/lib/python3.11/dist-packages (from anyio>=3.1.0->jupyter-server<3,>=1.8->notebook-shim>=0.2.3->nbclassic>=0.4.7->notebook>=4.4.1->widgetsnbextension~=3.6.0->ipywidgets) (1.3.1)\n",
            "Downloading miditoolkit-1.0.1-py3-none-any.whl (24 kB)\n",
            "Downloading torchmetrics-1.8.0-py3-none-any.whl (981 kB)\n",
            "\u001b[2K   \u001b[90m━━━━━━━━━━━━━━━━━━━━━━━━━━━━━━━━━━━━━━━━\u001b[0m \u001b[32m981.9/981.9 kB\u001b[0m \u001b[31m25.0 MB/s\u001b[0m eta \u001b[36m0:00:00\u001b[0m\n",
            "\u001b[?25hDownloading lightning_utilities-0.14.3-py3-none-any.whl (28 kB)\n",
            "Downloading mido-1.3.3-py3-none-any.whl (54 kB)\n",
            "\u001b[2K   \u001b[90m━━━━━━━━━━━━━━━━━━━━━━━━━━━━━━━━━━━━━━━━\u001b[0m \u001b[32m54.6/54.6 kB\u001b[0m \u001b[31m5.0 MB/s\u001b[0m eta \u001b[36m0:00:00\u001b[0m\n",
            "\u001b[?25hDownloading nvidia_cublas_cu12-12.4.5.8-py3-none-manylinux2014_x86_64.whl (363.4 MB)\n",
            "\u001b[2K   \u001b[90m━━━━━━━━━━━━━━━━━━━━━━━━━━━━━━━━━━━━━━━━\u001b[0m \u001b[32m363.4/363.4 MB\u001b[0m \u001b[31m4.3 MB/s\u001b[0m eta \u001b[36m0:00:00\u001b[0m\n",
            "\u001b[?25hDownloading nvidia_cuda_cupti_cu12-12.4.127-py3-none-manylinux2014_x86_64.whl (13.8 MB)\n",
            "\u001b[2K   \u001b[90m━━━━━━━━━━━━━━━━━━━━━━━━━━━━━━━━━━━━━━━━\u001b[0m \u001b[32m13.8/13.8 MB\u001b[0m \u001b[31m67.8 MB/s\u001b[0m eta \u001b[36m0:00:00\u001b[0m\n",
            "\u001b[?25hDownloading nvidia_cuda_nvrtc_cu12-12.4.127-py3-none-manylinux2014_x86_64.whl (24.6 MB)\n",
            "\u001b[2K   \u001b[90m━━━━━━━━━━━━━━━━━━━━━━━━━━━━━━━━━━━━━━━━\u001b[0m \u001b[32m24.6/24.6 MB\u001b[0m \u001b[31m34.6 MB/s\u001b[0m eta \u001b[36m0:00:00\u001b[0m\n",
            "\u001b[?25hDownloading nvidia_cuda_runtime_cu12-12.4.127-py3-none-manylinux2014_x86_64.whl (883 kB)\n",
            "\u001b[2K   \u001b[90m━━━━━━━━━━━━━━━━━━━━━━━━━━━━━━━━━━━━━━━━\u001b[0m \u001b[32m883.7/883.7 kB\u001b[0m \u001b[31m50.1 MB/s\u001b[0m eta \u001b[36m0:00:00\u001b[0m\n",
            "\u001b[?25hDownloading nvidia_cudnn_cu12-9.1.0.70-py3-none-manylinux2014_x86_64.whl (664.8 MB)\n",
            "\u001b[2K   \u001b[90m━━━━━━━━━━━━━━━━━━━━━━━━━━━━━━━━━━━━━━━━\u001b[0m \u001b[32m664.8/664.8 MB\u001b[0m \u001b[31m2.0 MB/s\u001b[0m eta \u001b[36m0:00:00\u001b[0m\n",
            "\u001b[?25hDownloading nvidia_cufft_cu12-11.2.1.3-py3-none-manylinux2014_x86_64.whl (211.5 MB)\n",
            "\u001b[2K   \u001b[90m━━━━━━━━━━━━━━━━━━━━━━━━━━━━━━━━━━━━━━━━\u001b[0m \u001b[32m211.5/211.5 MB\u001b[0m \u001b[31m6.0 MB/s\u001b[0m eta \u001b[36m0:00:00\u001b[0m\n",
            "\u001b[?25hDownloading nvidia_curand_cu12-10.3.5.147-py3-none-manylinux2014_x86_64.whl (56.3 MB)\n",
            "\u001b[2K   \u001b[90m━━━━━━━━━━━━━━━━━━━━━━━━━━━━━━━━━━━━━━━━\u001b[0m \u001b[32m56.3/56.3 MB\u001b[0m \u001b[31m12.4 MB/s\u001b[0m eta \u001b[36m0:00:00\u001b[0m\n",
            "\u001b[?25hDownloading nvidia_cusolver_cu12-11.6.1.9-py3-none-manylinux2014_x86_64.whl (127.9 MB)\n",
            "\u001b[2K   \u001b[90m━━━━━━━━━━━━━━━━━━━━━━━━━━━━━━━━━━━━━━━━\u001b[0m \u001b[32m127.9/127.9 MB\u001b[0m \u001b[31m7.6 MB/s\u001b[0m eta \u001b[36m0:00:00\u001b[0m\n",
            "\u001b[?25hDownloading nvidia_cusparse_cu12-12.3.1.170-py3-none-manylinux2014_x86_64.whl (207.5 MB)\n",
            "\u001b[2K   \u001b[90m━━━━━━━━━━━━━━━━━━━━━━━━━━━━━━━━━━━━━━━━\u001b[0m \u001b[32m207.5/207.5 MB\u001b[0m \u001b[31m5.4 MB/s\u001b[0m eta \u001b[36m0:00:00\u001b[0m\n",
            "\u001b[?25hDownloading nvidia_nvjitlink_cu12-12.4.127-py3-none-manylinux2014_x86_64.whl (21.1 MB)\n",
            "\u001b[2K   \u001b[90m━━━━━━━━━━━━━━━━━━━━━━━━━━━━━━━━━━━━━━━━\u001b[0m \u001b[32m21.1/21.1 MB\u001b[0m \u001b[31m71.8 MB/s\u001b[0m eta \u001b[36m0:00:00\u001b[0m\n",
            "\u001b[?25hDownloading jedi-0.19.2-py2.py3-none-any.whl (1.6 MB)\n",
            "\u001b[2K   \u001b[90m━━━━━━━━━━━━━━━━━━━━━━━━━━━━━━━━━━━━━━━━\u001b[0m \u001b[32m1.6/1.6 MB\u001b[0m \u001b[31m65.6 MB/s\u001b[0m eta \u001b[36m0:00:00\u001b[0m\n",
            "\u001b[?25hInstalling collected packages: nvidia-nvjitlink-cu12, nvidia-curand-cu12, nvidia-cufft-cu12, nvidia-cuda-runtime-cu12, nvidia-cuda-nvrtc-cu12, nvidia-cuda-cupti-cu12, nvidia-cublas-cu12, mido, lightning-utilities, jedi, nvidia-cusparse-cu12, nvidia-cudnn-cu12, nvidia-cusolver-cu12, miditoolkit, torchmetrics\n",
            "  Attempting uninstall: nvidia-nvjitlink-cu12\n",
            "    Found existing installation: nvidia-nvjitlink-cu12 12.5.82\n",
            "    Uninstalling nvidia-nvjitlink-cu12-12.5.82:\n",
            "      Successfully uninstalled nvidia-nvjitlink-cu12-12.5.82\n",
            "  Attempting uninstall: nvidia-curand-cu12\n",
            "    Found existing installation: nvidia-curand-cu12 10.3.6.82\n",
            "    Uninstalling nvidia-curand-cu12-10.3.6.82:\n",
            "      Successfully uninstalled nvidia-curand-cu12-10.3.6.82\n",
            "  Attempting uninstall: nvidia-cufft-cu12\n",
            "    Found existing installation: nvidia-cufft-cu12 11.2.3.61\n",
            "    Uninstalling nvidia-cufft-cu12-11.2.3.61:\n",
            "      Successfully uninstalled nvidia-cufft-cu12-11.2.3.61\n",
            "  Attempting uninstall: nvidia-cuda-runtime-cu12\n",
            "    Found existing installation: nvidia-cuda-runtime-cu12 12.5.82\n",
            "    Uninstalling nvidia-cuda-runtime-cu12-12.5.82:\n",
            "      Successfully uninstalled nvidia-cuda-runtime-cu12-12.5.82\n",
            "  Attempting uninstall: nvidia-cuda-nvrtc-cu12\n",
            "    Found existing installation: nvidia-cuda-nvrtc-cu12 12.5.82\n",
            "    Uninstalling nvidia-cuda-nvrtc-cu12-12.5.82:\n",
            "      Successfully uninstalled nvidia-cuda-nvrtc-cu12-12.5.82\n",
            "  Attempting uninstall: nvidia-cuda-cupti-cu12\n",
            "    Found existing installation: nvidia-cuda-cupti-cu12 12.5.82\n",
            "    Uninstalling nvidia-cuda-cupti-cu12-12.5.82:\n",
            "      Successfully uninstalled nvidia-cuda-cupti-cu12-12.5.82\n",
            "  Attempting uninstall: nvidia-cublas-cu12\n",
            "    Found existing installation: nvidia-cublas-cu12 12.5.3.2\n",
            "    Uninstalling nvidia-cublas-cu12-12.5.3.2:\n",
            "      Successfully uninstalled nvidia-cublas-cu12-12.5.3.2\n",
            "  Attempting uninstall: nvidia-cusparse-cu12\n",
            "    Found existing installation: nvidia-cusparse-cu12 12.5.1.3\n",
            "    Uninstalling nvidia-cusparse-cu12-12.5.1.3:\n",
            "      Successfully uninstalled nvidia-cusparse-cu12-12.5.1.3\n",
            "  Attempting uninstall: nvidia-cudnn-cu12\n",
            "    Found existing installation: nvidia-cudnn-cu12 9.3.0.75\n",
            "    Uninstalling nvidia-cudnn-cu12-9.3.0.75:\n",
            "      Successfully uninstalled nvidia-cudnn-cu12-9.3.0.75\n",
            "  Attempting uninstall: nvidia-cusolver-cu12\n",
            "    Found existing installation: nvidia-cusolver-cu12 11.6.3.83\n",
            "    Uninstalling nvidia-cusolver-cu12-11.6.3.83:\n",
            "      Successfully uninstalled nvidia-cusolver-cu12-11.6.3.83\n",
            "Successfully installed jedi-0.19.2 lightning-utilities-0.14.3 miditoolkit-1.0.1 mido-1.3.3 nvidia-cublas-cu12-12.4.5.8 nvidia-cuda-cupti-cu12-12.4.127 nvidia-cuda-nvrtc-cu12-12.4.127 nvidia-cuda-runtime-cu12-12.4.127 nvidia-cudnn-cu12-9.1.0.70 nvidia-cufft-cu12-11.2.1.3 nvidia-curand-cu12-10.3.5.147 nvidia-cusolver-cu12-11.6.1.9 nvidia-cusparse-cu12-12.3.1.170 nvidia-nvjitlink-cu12-12.4.127 torchmetrics-1.8.0\n"
          ]
        }
      ]
    },
    {
      "cell_type": "code",
      "execution_count": 6,
      "id": "77c7c43c",
      "metadata": {
        "id": "77c7c43c"
      },
      "outputs": [],
      "source": [
        "\"\"\"Imports\"\"\"\n",
        "import matplotlib.pyplot as plt\n",
        "import numpy as np\n",
        "import torch\n",
        "import torch.nn as nn\n",
        "\n",
        "from miditok import REMI, TokenizerConfig\n",
        "from miditok.pytorch_data import DatasetMIDI, DataCollator\n",
        "from miditok.utils import split_files_for_training\n",
        "from pathlib import Path\n",
        "from random import shuffle, seed as random_seed\n",
        "from torch.utils.data import DataLoader\n",
        "from torchmetrics import Accuracy, Precision, Recall, F1Score, ConfusionMatrix\n",
        "from torchmetrics.classification import MulticlassConfusionMatrix"
      ]
    },
    {
      "cell_type": "code",
      "execution_count": 7,
      "id": "b2461b84",
      "metadata": {
        "id": "b2461b84",
        "outputId": "c906a77a-23db-4ef0-b7fe-f4a6914a6585",
        "colab": {
          "base_uri": "https://localhost:8080/"
        }
      },
      "outputs": [
        {
          "output_type": "stream",
          "name": "stdout",
          "text": [
            "Using device: cuda\n"
          ]
        }
      ],
      "source": [
        "\"\"\"Set seeds and device\"\"\"\n",
        "random_seed(73)\n",
        "np.random.seed(73)\n",
        "torch.manual_seed(73)\n",
        "if torch.cuda.is_available():\n",
        "    torch.cuda.manual_seed_all(73)\n",
        "\n",
        "device = torch.device(\"cuda\" if torch.cuda.is_available() else \"cpu\")\n",
        "print(f\"Using device: {device}\")"
      ]
    },
    {
      "cell_type": "markdown",
      "id": "f78a15bc",
      "metadata": {
        "id": "f78a15bc"
      },
      "source": [
        "Prepare Data for LSTM architecture"
      ]
    },
    {
      "cell_type": "code",
      "execution_count": 8,
      "id": "029fb720",
      "metadata": {
        "id": "029fb720",
        "outputId": "f40b31c6-f5f7-42f8-bb36-fd7b960acb66",
        "colab": {
          "base_uri": "https://localhost:8080/"
        }
      },
      "outputs": [
        {
          "output_type": "stream",
          "name": "stdout",
          "text": [
            "True\n"
          ]
        }
      ],
      "source": [
        "\"\"\"Train new tokenizer based on all augmented data\"\"\"\n",
        "DATA_PATH = Path(Path.cwd().parent, \"Data\")\n",
        "midi_paths = list(Path(DATA_PATH, \"Augmented\").glob(f\"**/*.mid\"))\n",
        "\n",
        "config = TokenizerConfig(use_chords=True, use_rests=True, use_tempos=True, use_programs=True, one_token_stream_for_programs=False)\n",
        "tokenizer = REMI(config)\n",
        "tokenizer.train(vocab_size=500, files_paths=midi_paths)\n",
        "\n",
        "tokenizer.is_trained\n",
        "# NOTE: The vocab_size is a hyperparameter we could play with for optimization\n",
        "\n",
        "print(tokenizer.is_trained)\n"
      ]
    },
    {
      "cell_type": "code",
      "source": [
        "from miditoolkit import MidiFile\n",
        "\n",
        "# Filter midi_paths to keep only files that contain notes\n",
        "def file_has_notes(path):\n",
        "    try:\n",
        "\n",
        "        midi = MidiFile(str(path))\n",
        "\n",
        "        return any(len(track.notes) > 0 for track in midi.instruments)\n",
        "    except:\n",
        "        return False\n",
        "\n",
        "midi_paths = [p for p in midi_paths if file_has_notes(p)]\n",
        "print(f\"✅ {len(midi_paths)} files with notes retained\")\n",
        "\n",
        "\n"
      ],
      "metadata": {
        "colab": {
          "base_uri": "https://localhost:8080/"
        },
        "id": "56ibAyZC-CE0",
        "outputId": "77e5f787-8865-4734-91c0-433ed0cd6b9b"
      },
      "id": "56ibAyZC-CE0",
      "execution_count": 9,
      "outputs": [
        {
          "output_type": "stream",
          "name": "stdout",
          "text": [
            "✅ 0 files with notes retained\n"
          ]
        }
      ]
    },
    {
      "cell_type": "code",
      "source": [
        "from pathlib import Path\n",
        "\n",
        "# Recursively get all .mid files from the Augmented folder\n",
        "midi_paths = list(Path(\"Data/Augmented\").rglob(\"*.mid\"))\n",
        "\n",
        "print(f\"🎵 Found {len(midi_paths)} .mid files\")\n"
      ],
      "metadata": {
        "colab": {
          "base_uri": "https://localhost:8080/"
        },
        "id": "mWE9heXUlmpC",
        "outputId": "8040a21e-e82c-41b5-fe1d-bbd363f69104"
      },
      "id": "mWE9heXUlmpC",
      "execution_count": 10,
      "outputs": [
        {
          "output_type": "stream",
          "name": "stdout",
          "text": [
            "🎵 Found 400 .mid files\n"
          ]
        }
      ]
    },
    {
      "cell_type": "code",
      "source": [
        "for p in midi_paths[:5]:\n",
        "    print(p)\n"
      ],
      "metadata": {
        "colab": {
          "base_uri": "https://localhost:8080/"
        },
        "id": "JV9ats2anwNh",
        "outputId": "0f260a8b-d0d3-4eba-b710-d8280213d151"
      },
      "id": "JV9ats2anwNh",
      "execution_count": 11,
      "outputs": [
        {
          "output_type": "stream",
          "name": "stdout",
          "text": [
            "Data/Augmented/Beethoven/0012_26#p-6.mid\n",
            "Data/Augmented/Beethoven/0012_16#d96.mid\n",
            "Data/Augmented/Beethoven/0012_4#v4.mid\n",
            "Data/Augmented/Beethoven/0012_39#v-4.mid\n",
            "Data/Augmented/Beethoven/0012_32#v-4.mid\n"
          ]
        }
      ]
    },
    {
      "cell_type": "code",
      "source": [
        "from miditoolkit import MidiFile\n",
        "\n",
        "def file_has_notes(path):\n",
        "    try:\n",
        "        midi = MidiFile(str(path))\n",
        "        # Fallback to checking notes even if .instruments is empty\n",
        "        if midi.instruments:\n",
        "            return any(len(track.notes) > 0 for track in midi.instruments)\n",
        "        else:\n",
        "            return len(midi.notes) > 0  # Fallback for type-0 files\n",
        "    except Exception as e:\n",
        "        print(f\"❌ Error in {path.name}: {e}\")\n",
        "        return False\n"
      ],
      "metadata": {
        "id": "6A5fZsSun_vR"
      },
      "id": "6A5fZsSun_vR",
      "execution_count": 12,
      "outputs": []
    },
    {
      "cell_type": "code",
      "source": [
        "filtered_paths = [p for p in midi_paths if file_has_notes(p)]\n",
        "print(f\"✅ {len(filtered_paths)} files with notes retained\")\n",
        "\n"
      ],
      "metadata": {
        "colab": {
          "base_uri": "https://localhost:8080/"
        },
        "id": "b-1P6_sO-u1b",
        "outputId": "734700a9-7c12-4242-fffb-2d5b30101cac"
      },
      "id": "b-1P6_sO-u1b",
      "execution_count": 13,
      "outputs": [
        {
          "output_type": "stream",
          "name": "stdout",
          "text": [
            "✅ 400 files with notes retained\n"
          ]
        }
      ]
    },
    {
      "cell_type": "code",
      "source": [
        "from pathlib import Path\n",
        "\n",
        "# Always resolve to absolute paths to avoid mismatch\n",
        "midi_paths = list(Path(\"Data/Augmented\").resolve().rglob(\"*.mid\"))"
      ],
      "metadata": {
        "id": "oZMgWrfjo3gC"
      },
      "id": "oZMgWrfjo3gC",
      "execution_count": 14,
      "outputs": []
    },
    {
      "cell_type": "code",
      "execution_count": 15,
      "id": "42bfdd11",
      "metadata": {
        "id": "42bfdd11",
        "outputId": "d12593cd-dca2-4c23-a98a-366a12ed1a66",
        "colab": {
          "base_uri": "https://localhost:8080/"
        }
      },
      "outputs": [
        {
          "output_type": "stream",
          "name": "stderr",
          "text": [
            "Splitting music files (/content/Data/LSTM/Train): 100%|██████████| 280/280 [00:00<00:00, 1077.33it/s]\n",
            "Splitting music files (/content/Data/LSTM/Validate): 100%|██████████| 60/60 [00:00<00:00, 696.40it/s]\n",
            "Splitting music files (/content/Data/LSTM/Test): 100%|██████████| 60/60 [00:00<00:00, 700.81it/s]\n"
          ]
        }
      ],
      "source": [
        "\"\"\"Split into train/valid/test datasets using roughly 15% of the data for each of valid and test\"\"\"\n",
        "total_num_files = len(midi_paths)\n",
        "num_files_valid = round(total_num_files * 0.15)\n",
        "num_files_test = round(total_num_files * 0.15)\n",
        "shuffle(midi_paths)\n",
        "midi_paths_valid = midi_paths[:num_files_valid]\n",
        "midi_paths_test = midi_paths[num_files_valid:num_files_valid + num_files_test]\n",
        "midi_paths_train = midi_paths[num_files_valid + num_files_test:]\n",
        "\n",
        "for files_paths, subset_name in (\n",
        "    (midi_paths_train, \"Train\"), (midi_paths_valid, \"Validate\"), (midi_paths_test, \"Test\")\n",
        "):\n",
        "    subset_chunks_dir = Path(DATA_PATH, \"LSTM\", subset_name)\n",
        "    split_files_for_training(\n",
        "        files_paths=files_paths,\n",
        "        tokenizer=tokenizer,\n",
        "        save_dir=subset_chunks_dir,\n",
        "        max_seq_len=1024,\n",
        "        num_overlap_bars=2,\n",
        "    )"
      ]
    },
    {
      "cell_type": "code",
      "execution_count": 22,
      "id": "017d90a8",
      "metadata": {
        "id": "017d90a8"
      },
      "outputs": [],
      "source": [
        "\"\"\"Create torch compatable data loaders using the datasets created above\"\"\"\n",
        "#TODO See if we can make padding happen in the dataloader itself instead of needing to pad the data generated by the data loader\n",
        "class Capture:\n",
        "\tdef __init__(self):\n",
        "\t\tself.score = None\n",
        "\t\tself.tok_sequence = None\n",
        "\n",
        "\tdef lable_composer(self, score, tok_sequence, file_path):\n",
        "\t\tself.score = score\n",
        "\t\tself.tok_sequence = tok_sequence\n",
        "\t\tcomposer = file_path.parts[-2:-1]\n",
        "\t\tif \"Bach\" in composer:\n",
        "\t\t\treturn [1,0,0,0]\n",
        "\t\telif \"Beethoven\" in composer:\n",
        "\t\t\treturn [0,1,0,0]\n",
        "\t\telif \"Chopin\" in composer:\n",
        "\t\t\treturn [0,0,1,0]\n",
        "\t\telif \"Mozart\" in composer:\n",
        "\t\t\treturn [0,0,0,1]\n",
        "\t\telse:\n",
        "\t\t\treturn [0,0,0,0]\n",
        "\n",
        "capture = Capture()\n",
        "collator = DataCollator(tokenizer.pad_token_id)\n",
        "use_cuda = torch.cuda.is_available()\n",
        "\n",
        "dataset_train = DatasetMIDI(\n",
        "    files_paths=list(Path(DATA_PATH, \"LSTM\", \"Train\").glob(\"**/*.mid\")),\n",
        "    tokenizer=tokenizer,\n",
        "    max_seq_len=1024,\n",
        "    bos_token_id=tokenizer[\"BOS_None\"],\n",
        "    eos_token_id=tokenizer[\"EOS_None\"],\n",
        "    func_to_get_labels=capture.lable_composer\n",
        ")\n",
        "dataloader_train = DataLoader(dataset_train, batch_size=16, collate_fn=collator, shuffle=True, pin_memory=use_cuda)\n",
        "\n",
        "dataset_valid = DatasetMIDI(\n",
        "    files_paths=list(Path(DATA_PATH, \"LSTM\", \"Validate\").glob(\"**/*.mid\")),\n",
        "    tokenizer=tokenizer,\n",
        "    max_seq_len=1024,\n",
        "    bos_token_id=tokenizer[\"BOS_None\"],\n",
        "    eos_token_id=tokenizer[\"EOS_None\"],\n",
        "\tfunc_to_get_labels=capture.lable_composer\n",
        ")\n",
        "dataloader_valid = DataLoader(dataset_valid, batch_size=16, collate_fn=collator, shuffle=True, pin_memory=use_cuda) # increased batch size to 16 for faster training\n",
        "\n",
        "dataset_test = DatasetMIDI(\n",
        "    files_paths=list(Path(DATA_PATH, \"LSTM\", \"Test\").glob(\"**/*.mid\")),\n",
        "    tokenizer=tokenizer,\n",
        "    max_seq_len=1024,\n",
        "    bos_token_id=tokenizer[\"BOS_None\"],\n",
        "    eos_token_id=tokenizer[\"EOS_None\"],\n",
        "\tfunc_to_get_labels=capture.lable_composer\n",
        ")\n",
        "dataloader_test = DataLoader(dataset_test, batch_size=16, collate_fn=collator, pin_memory=use_cuda) #using pin memory to make execution faster in GPU(by speeding up datatrafer from cpu to gpu)"
      ]
    },
    {
      "cell_type": "markdown",
      "id": "08d683cd",
      "metadata": {
        "id": "08d683cd"
      },
      "source": [
        "Build Model"
      ]
    },
    {
      "cell_type": "code",
      "execution_count": 23,
      "id": "a9d0cb08",
      "metadata": {
        "id": "a9d0cb08"
      },
      "outputs": [],
      "source": [
        "# LSTM model definition for sequence prediction\n",
        "\n",
        "\n",
        "class ComposerLSTM(nn.Module):\n",
        "    def __init__(self, input_size, hidden_size, num_layers, num_classes, dropout=0):\n",
        "        super(ComposerLSTM, self).__init__()\n",
        "\n",
        "        self.lstm = nn.LSTM(input_size, hidden_size, num_layers,\n",
        "                            batch_first=True, dropout=dropout)\n",
        "\n",
        "        self.fc1 = nn.Linear(hidden_size, 64)\n",
        "        self.relu = nn.ReLU()\n",
        "        self.fc2 = nn.Linear(64, num_classes)\n",
        "\n",
        "    def forward(self, x):\n",
        "        # x is a PackedSequence\n",
        "        packed_output, (hn, cn) = self.lstm(x)\n",
        "\n",
        "        # Use the last hidden state of the final layer\n",
        "        # out = hn[-1]  # shape: (batch_size, hidden_size)\n",
        "        out = hn[-1]\n",
        "\n",
        "        out = self.fc1(out)\n",
        "        out = self.relu(out)\n",
        "        out = self.fc2(out)\n",
        "        return out\n",
        "\n"
      ]
    },
    {
      "cell_type": "markdown",
      "id": "d3abb22e",
      "metadata": {
        "id": "d3abb22e"
      },
      "source": [
        "Train Model"
      ]
    },
    {
      "cell_type": "code",
      "source": [
        "import torch\n",
        "import torch.nn as nn\n",
        "from torch.nn.utils.rnn import pad_sequence, pack_padded_sequence\n",
        "from tqdm import tqdm\n",
        "\n",
        "device = torch.device(\"cuda\" if torch.cuda.is_available() else \"cpu\")\n",
        "\n",
        "def train(model, training_loader, validation_loader, lr=1e-4):\n",
        "    criterion = nn.MSELoss()\n",
        "    optimizer = torch.optim.Adam(model.parameters(), lr=lr)\n",
        "\n",
        "    train_losses = []\n",
        "    model.train()\n",
        "\n",
        "    for batch in tqdm(training_loader, desc=\"Training\"):\n",
        "        input_seqs = batch[\"input_ids\"]\n",
        "        #lengths = torch.tensor([len(seq) for seq in input_seqs]).to(device)\n",
        "        lengths = torch.tensor([len(seq) for seq in input_seqs], dtype=torch.int64)  # ensure int64 on CPU\n",
        "\n",
        "\n",
        "\n",
        "\n",
        "        # Pad and pack\n",
        "        padded_inputs = pad_sequence(input_seqs, batch_first=True, padding_value=tokenizer.pad_token_id).to(device)\n",
        "        padded_inputs = padded_inputs.float().unsqueeze(-1)  # shape: (batch, seq_len, 1)\n",
        "        packed_inputs = pack_padded_sequence(padded_inputs, lengths, batch_first=True, enforce_sorted=False)\n",
        "\n",
        "        labels = batch[\"labels\"].to(device).float()\n",
        "\n",
        "        optimizer.zero_grad()\n",
        "        outputs = model(packed_inputs)  # <-- model must accept packed inputs\n",
        "        loss = criterion(outputs, labels)\n",
        "        loss.backward()\n",
        "        optimizer.step()\n",
        "        train_losses.append(loss.item())\n",
        "\n",
        "    # Validation loop\n",
        "    validation_losses = []\n",
        "    model.eval()\n",
        "    with torch.no_grad():\n",
        "        for batch in validation_loader:\n",
        "            v_input_seqs = batch[\"input_ids\"]\n",
        "            #v_lengths = torch.tensor([len(seq) for seq in v_input_seqs]).to(device)\n",
        "            v_lengths = torch.tensor([len(seq) for seq in v_input_seqs], dtype=torch.int64)\n",
        "\n",
        "            v_padded = pad_sequence(v_input_seqs, batch_first=True, padding_value=tokenizer.pad_token_id).to(device)\n",
        "\n",
        "            v_padded = v_padded.float().unsqueeze(-1)\n",
        "            v_packed = pack_padded_sequence(v_padded, v_lengths, batch_first=True, enforce_sorted=False)\n",
        "\n",
        "            v_labels = batch[\"labels\"].to(device).float()\n",
        "            v_outputs = model(v_packed)\n",
        "            v_loss = criterion(v_outputs, v_labels)\n",
        "            validation_losses.append(v_loss.item())\n",
        "\n",
        "    return train_losses, validation_losses\n",
        "\n",
        "\n",
        "\n",
        "\n",
        "\n",
        "# Train LSTM model\n",
        "# Initialize your model with correct input_size\n",
        "model = ComposerLSTM(input_size=1, hidden_size=512, num_layers=1, num_classes=4).to(device) ## changing hidden size from 4096 to 512\n",
        "\n",
        "epochs = 50\n",
        "total_train_losses = []\n",
        "total_validation_losses = []\n",
        "\n",
        "for epoch in range(epochs):\n",
        "    print(f\"\\nEpoch {epoch+1}/{epochs}\")\n",
        "    train_loss, val_loss = train(model, dataloader_train, dataloader_valid)\n",
        "    total_train_losses.append(sum(train_loss) / len(train_loss))\n",
        "    total_validation_losses.append(sum(val_loss) / len(val_loss))\n",
        "\n",
        "    print(f\"Train Loss: {total_train_losses[-1]:.4f}, Val Loss: {total_validation_losses[-1]:.4f}\")\n"
      ],
      "metadata": {
        "colab": {
          "base_uri": "https://localhost:8080/"
        },
        "id": "RJ12EH3qromX",
        "outputId": "1e62af64-5f68-4d63-c61b-e2a75f280b8b"
      },
      "id": "RJ12EH3qromX",
      "execution_count": 24,
      "outputs": [
        {
          "output_type": "stream",
          "name": "stdout",
          "text": [
            "\n",
            "Epoch 1/50\n"
          ]
        },
        {
          "output_type": "stream",
          "name": "stderr",
          "text": [
            "Training: 100%|██████████| 32/32 [00:06<00:00,  4.92it/s]\n"
          ]
        },
        {
          "output_type": "stream",
          "name": "stdout",
          "text": [
            "Train Loss: 0.2550, Val Loss: 0.2334\n",
            "\n",
            "Epoch 2/50\n"
          ]
        },
        {
          "output_type": "stream",
          "name": "stderr",
          "text": [
            "Training: 100%|██████████| 32/32 [00:05<00:00,  6.28it/s]\n"
          ]
        },
        {
          "output_type": "stream",
          "name": "stdout",
          "text": [
            "Train Loss: 0.1988, Val Loss: 0.1843\n",
            "\n",
            "Epoch 3/50\n"
          ]
        },
        {
          "output_type": "stream",
          "name": "stderr",
          "text": [
            "Training: 100%|██████████| 32/32 [00:05<00:00,  5.69it/s]\n"
          ]
        },
        {
          "output_type": "stream",
          "name": "stdout",
          "text": [
            "Train Loss: 0.1790, Val Loss: 0.1740\n",
            "\n",
            "Epoch 4/50\n"
          ]
        },
        {
          "output_type": "stream",
          "name": "stderr",
          "text": [
            "Training: 100%|██████████| 32/32 [00:05<00:00,  5.62it/s]\n"
          ]
        },
        {
          "output_type": "stream",
          "name": "stdout",
          "text": [
            "Train Loss: 0.1760, Val Loss: 0.1738\n",
            "\n",
            "Epoch 5/50\n"
          ]
        },
        {
          "output_type": "stream",
          "name": "stderr",
          "text": [
            "Training: 100%|██████████| 32/32 [00:05<00:00,  5.61it/s]\n"
          ]
        },
        {
          "output_type": "stream",
          "name": "stdout",
          "text": [
            "Train Loss: 0.1797, Val Loss: 0.1712\n",
            "\n",
            "Epoch 6/50\n"
          ]
        },
        {
          "output_type": "stream",
          "name": "stderr",
          "text": [
            "Training: 100%|██████████| 32/32 [00:05<00:00,  6.22it/s]\n"
          ]
        },
        {
          "output_type": "stream",
          "name": "stdout",
          "text": [
            "Train Loss: 0.1775, Val Loss: 0.1763\n",
            "\n",
            "Epoch 7/50\n"
          ]
        },
        {
          "output_type": "stream",
          "name": "stderr",
          "text": [
            "Training: 100%|██████████| 32/32 [00:05<00:00,  5.84it/s]\n"
          ]
        },
        {
          "output_type": "stream",
          "name": "stdout",
          "text": [
            "Train Loss: 0.1764, Val Loss: 0.1723\n",
            "\n",
            "Epoch 8/50\n"
          ]
        },
        {
          "output_type": "stream",
          "name": "stderr",
          "text": [
            "Training: 100%|██████████| 32/32 [00:05<00:00,  6.19it/s]\n"
          ]
        },
        {
          "output_type": "stream",
          "name": "stdout",
          "text": [
            "Train Loss: 0.1723, Val Loss: 0.1725\n",
            "\n",
            "Epoch 9/50\n"
          ]
        },
        {
          "output_type": "stream",
          "name": "stderr",
          "text": [
            "Training: 100%|██████████| 32/32 [00:05<00:00,  5.92it/s]\n"
          ]
        },
        {
          "output_type": "stream",
          "name": "stdout",
          "text": [
            "Train Loss: 0.1782, Val Loss: 0.1732\n",
            "\n",
            "Epoch 10/50\n"
          ]
        },
        {
          "output_type": "stream",
          "name": "stderr",
          "text": [
            "Training: 100%|██████████| 32/32 [00:05<00:00,  5.79it/s]\n"
          ]
        },
        {
          "output_type": "stream",
          "name": "stdout",
          "text": [
            "Train Loss: 0.1732, Val Loss: 0.1716\n",
            "\n",
            "Epoch 11/50\n"
          ]
        },
        {
          "output_type": "stream",
          "name": "stderr",
          "text": [
            "Training: 100%|██████████| 32/32 [00:05<00:00,  5.98it/s]\n"
          ]
        },
        {
          "output_type": "stream",
          "name": "stdout",
          "text": [
            "Train Loss: 0.1723, Val Loss: 0.1713\n",
            "\n",
            "Epoch 12/50\n"
          ]
        },
        {
          "output_type": "stream",
          "name": "stderr",
          "text": [
            "Training: 100%|██████████| 32/32 [00:05<00:00,  5.99it/s]\n"
          ]
        },
        {
          "output_type": "stream",
          "name": "stdout",
          "text": [
            "Train Loss: 0.1751, Val Loss: 0.1767\n",
            "\n",
            "Epoch 13/50\n"
          ]
        },
        {
          "output_type": "stream",
          "name": "stderr",
          "text": [
            "Training: 100%|██████████| 32/32 [00:05<00:00,  6.12it/s]\n"
          ]
        },
        {
          "output_type": "stream",
          "name": "stdout",
          "text": [
            "Train Loss: 0.1728, Val Loss: 0.1715\n",
            "\n",
            "Epoch 14/50\n"
          ]
        },
        {
          "output_type": "stream",
          "name": "stderr",
          "text": [
            "Training: 100%|██████████| 32/32 [00:05<00:00,  5.78it/s]\n"
          ]
        },
        {
          "output_type": "stream",
          "name": "stdout",
          "text": [
            "Train Loss: 0.1715, Val Loss: 0.1814\n",
            "\n",
            "Epoch 15/50\n"
          ]
        },
        {
          "output_type": "stream",
          "name": "stderr",
          "text": [
            "Training: 100%|██████████| 32/32 [00:05<00:00,  6.06it/s]\n"
          ]
        },
        {
          "output_type": "stream",
          "name": "stdout",
          "text": [
            "Train Loss: 0.1722, Val Loss: 0.1695\n",
            "\n",
            "Epoch 16/50\n"
          ]
        },
        {
          "output_type": "stream",
          "name": "stderr",
          "text": [
            "Training: 100%|██████████| 32/32 [00:05<00:00,  5.65it/s]\n"
          ]
        },
        {
          "output_type": "stream",
          "name": "stdout",
          "text": [
            "Train Loss: 0.1738, Val Loss: 0.1731\n",
            "\n",
            "Epoch 17/50\n"
          ]
        },
        {
          "output_type": "stream",
          "name": "stderr",
          "text": [
            "Training: 100%|██████████| 32/32 [00:05<00:00,  6.21it/s]\n"
          ]
        },
        {
          "output_type": "stream",
          "name": "stdout",
          "text": [
            "Train Loss: 0.1704, Val Loss: 0.1710\n",
            "\n",
            "Epoch 18/50\n"
          ]
        },
        {
          "output_type": "stream",
          "name": "stderr",
          "text": [
            "Training: 100%|██████████| 32/32 [00:05<00:00,  5.65it/s]\n"
          ]
        },
        {
          "output_type": "stream",
          "name": "stdout",
          "text": [
            "Train Loss: 0.1735, Val Loss: 0.1694\n",
            "\n",
            "Epoch 19/50\n"
          ]
        },
        {
          "output_type": "stream",
          "name": "stderr",
          "text": [
            "Training: 100%|██████████| 32/32 [00:05<00:00,  5.93it/s]\n"
          ]
        },
        {
          "output_type": "stream",
          "name": "stdout",
          "text": [
            "Train Loss: 0.1684, Val Loss: 0.1710\n",
            "\n",
            "Epoch 20/50\n"
          ]
        },
        {
          "output_type": "stream",
          "name": "stderr",
          "text": [
            "Training: 100%|██████████| 32/32 [00:05<00:00,  5.64it/s]\n"
          ]
        },
        {
          "output_type": "stream",
          "name": "stdout",
          "text": [
            "Train Loss: 0.1664, Val Loss: 0.1638\n",
            "\n",
            "Epoch 21/50\n"
          ]
        },
        {
          "output_type": "stream",
          "name": "stderr",
          "text": [
            "Training: 100%|██████████| 32/32 [00:05<00:00,  6.25it/s]\n"
          ]
        },
        {
          "output_type": "stream",
          "name": "stdout",
          "text": [
            "Train Loss: 0.1655, Val Loss: 0.1668\n",
            "\n",
            "Epoch 22/50\n"
          ]
        },
        {
          "output_type": "stream",
          "name": "stderr",
          "text": [
            "Training: 100%|██████████| 32/32 [00:05<00:00,  5.67it/s]\n"
          ]
        },
        {
          "output_type": "stream",
          "name": "stdout",
          "text": [
            "Train Loss: 0.1676, Val Loss: 0.1808\n",
            "\n",
            "Epoch 23/50\n"
          ]
        },
        {
          "output_type": "stream",
          "name": "stderr",
          "text": [
            "Training: 100%|██████████| 32/32 [00:05<00:00,  6.19it/s]\n"
          ]
        },
        {
          "output_type": "stream",
          "name": "stdout",
          "text": [
            "Train Loss: 0.1638, Val Loss: 0.1649\n",
            "\n",
            "Epoch 24/50\n"
          ]
        },
        {
          "output_type": "stream",
          "name": "stderr",
          "text": [
            "Training: 100%|██████████| 32/32 [00:05<00:00,  5.58it/s]\n"
          ]
        },
        {
          "output_type": "stream",
          "name": "stdout",
          "text": [
            "Train Loss: 0.1671, Val Loss: 0.1680\n",
            "\n",
            "Epoch 25/50\n"
          ]
        },
        {
          "output_type": "stream",
          "name": "stderr",
          "text": [
            "Training: 100%|██████████| 32/32 [00:05<00:00,  6.20it/s]\n"
          ]
        },
        {
          "output_type": "stream",
          "name": "stdout",
          "text": [
            "Train Loss: 0.1667, Val Loss: 0.1693\n",
            "\n",
            "Epoch 26/50\n"
          ]
        },
        {
          "output_type": "stream",
          "name": "stderr",
          "text": [
            "Training: 100%|██████████| 32/32 [00:05<00:00,  5.66it/s]\n"
          ]
        },
        {
          "output_type": "stream",
          "name": "stdout",
          "text": [
            "Train Loss: 0.1707, Val Loss: 0.1643\n",
            "\n",
            "Epoch 27/50\n"
          ]
        },
        {
          "output_type": "stream",
          "name": "stderr",
          "text": [
            "Training: 100%|██████████| 32/32 [00:05<00:00,  6.18it/s]\n"
          ]
        },
        {
          "output_type": "stream",
          "name": "stdout",
          "text": [
            "Train Loss: 0.1679, Val Loss: 0.1700\n",
            "\n",
            "Epoch 28/50\n"
          ]
        },
        {
          "output_type": "stream",
          "name": "stderr",
          "text": [
            "Training: 100%|██████████| 32/32 [00:05<00:00,  5.36it/s]\n"
          ]
        },
        {
          "output_type": "stream",
          "name": "stdout",
          "text": [
            "Train Loss: 0.1660, Val Loss: 0.1721\n",
            "\n",
            "Epoch 29/50\n"
          ]
        },
        {
          "output_type": "stream",
          "name": "stderr",
          "text": [
            "Training: 100%|██████████| 32/32 [00:05<00:00,  6.16it/s]\n"
          ]
        },
        {
          "output_type": "stream",
          "name": "stdout",
          "text": [
            "Train Loss: 0.1665, Val Loss: 0.1667\n",
            "\n",
            "Epoch 30/50\n"
          ]
        },
        {
          "output_type": "stream",
          "name": "stderr",
          "text": [
            "Training: 100%|██████████| 32/32 [00:05<00:00,  5.62it/s]\n"
          ]
        },
        {
          "output_type": "stream",
          "name": "stdout",
          "text": [
            "Train Loss: 0.1657, Val Loss: 0.1714\n",
            "\n",
            "Epoch 31/50\n"
          ]
        },
        {
          "output_type": "stream",
          "name": "stderr",
          "text": [
            "Training: 100%|██████████| 32/32 [00:05<00:00,  6.20it/s]\n"
          ]
        },
        {
          "output_type": "stream",
          "name": "stdout",
          "text": [
            "Train Loss: 0.1671, Val Loss: 0.1739\n",
            "\n",
            "Epoch 32/50\n"
          ]
        },
        {
          "output_type": "stream",
          "name": "stderr",
          "text": [
            "Training: 100%|██████████| 32/32 [00:05<00:00,  5.70it/s]\n"
          ]
        },
        {
          "output_type": "stream",
          "name": "stdout",
          "text": [
            "Train Loss: 0.1700, Val Loss: 0.1690\n",
            "\n",
            "Epoch 33/50\n"
          ]
        },
        {
          "output_type": "stream",
          "name": "stderr",
          "text": [
            "Training: 100%|██████████| 32/32 [00:05<00:00,  5.95it/s]\n"
          ]
        },
        {
          "output_type": "stream",
          "name": "stdout",
          "text": [
            "Train Loss: 0.1696, Val Loss: 0.1726\n",
            "\n",
            "Epoch 34/50\n"
          ]
        },
        {
          "output_type": "stream",
          "name": "stderr",
          "text": [
            "Training: 100%|██████████| 32/32 [00:05<00:00,  5.64it/s]\n"
          ]
        },
        {
          "output_type": "stream",
          "name": "stdout",
          "text": [
            "Train Loss: 0.1691, Val Loss: 0.1732\n",
            "\n",
            "Epoch 35/50\n"
          ]
        },
        {
          "output_type": "stream",
          "name": "stderr",
          "text": [
            "Training: 100%|██████████| 32/32 [00:05<00:00,  6.20it/s]\n"
          ]
        },
        {
          "output_type": "stream",
          "name": "stdout",
          "text": [
            "Train Loss: 0.1670, Val Loss: 0.1707\n",
            "\n",
            "Epoch 36/50\n"
          ]
        },
        {
          "output_type": "stream",
          "name": "stderr",
          "text": [
            "Training: 100%|██████████| 32/32 [00:05<00:00,  5.68it/s]\n"
          ]
        },
        {
          "output_type": "stream",
          "name": "stdout",
          "text": [
            "Train Loss: 0.1704, Val Loss: 0.1709\n",
            "\n",
            "Epoch 37/50\n"
          ]
        },
        {
          "output_type": "stream",
          "name": "stderr",
          "text": [
            "Training: 100%|██████████| 32/32 [00:05<00:00,  5.90it/s]\n"
          ]
        },
        {
          "output_type": "stream",
          "name": "stdout",
          "text": [
            "Train Loss: 0.1660, Val Loss: 0.1665\n",
            "\n",
            "Epoch 38/50\n"
          ]
        },
        {
          "output_type": "stream",
          "name": "stderr",
          "text": [
            "Training: 100%|██████████| 32/32 [00:05<00:00,  5.50it/s]\n"
          ]
        },
        {
          "output_type": "stream",
          "name": "stdout",
          "text": [
            "Train Loss: 0.1638, Val Loss: 0.1678\n",
            "\n",
            "Epoch 39/50\n"
          ]
        },
        {
          "output_type": "stream",
          "name": "stderr",
          "text": [
            "Training: 100%|██████████| 32/32 [00:05<00:00,  6.15it/s]\n"
          ]
        },
        {
          "output_type": "stream",
          "name": "stdout",
          "text": [
            "Train Loss: 0.1718, Val Loss: 0.1683\n",
            "\n",
            "Epoch 40/50\n"
          ]
        },
        {
          "output_type": "stream",
          "name": "stderr",
          "text": [
            "Training: 100%|██████████| 32/32 [00:05<00:00,  5.73it/s]\n"
          ]
        },
        {
          "output_type": "stream",
          "name": "stdout",
          "text": [
            "Train Loss: 0.1658, Val Loss: 0.1662\n",
            "\n",
            "Epoch 41/50\n"
          ]
        },
        {
          "output_type": "stream",
          "name": "stderr",
          "text": [
            "Training: 100%|██████████| 32/32 [00:05<00:00,  6.08it/s]\n"
          ]
        },
        {
          "output_type": "stream",
          "name": "stdout",
          "text": [
            "Train Loss: 0.1651, Val Loss: 0.1660\n",
            "\n",
            "Epoch 42/50\n"
          ]
        },
        {
          "output_type": "stream",
          "name": "stderr",
          "text": [
            "Training: 100%|██████████| 32/32 [00:05<00:00,  5.62it/s]\n"
          ]
        },
        {
          "output_type": "stream",
          "name": "stdout",
          "text": [
            "Train Loss: 0.1695, Val Loss: 0.1719\n",
            "\n",
            "Epoch 43/50\n"
          ]
        },
        {
          "output_type": "stream",
          "name": "stderr",
          "text": [
            "Training: 100%|██████████| 32/32 [00:05<00:00,  5.96it/s]\n"
          ]
        },
        {
          "output_type": "stream",
          "name": "stdout",
          "text": [
            "Train Loss: 0.1670, Val Loss: 0.1697\n",
            "\n",
            "Epoch 44/50\n"
          ]
        },
        {
          "output_type": "stream",
          "name": "stderr",
          "text": [
            "Training: 100%|██████████| 32/32 [00:05<00:00,  6.04it/s]\n"
          ]
        },
        {
          "output_type": "stream",
          "name": "stdout",
          "text": [
            "Train Loss: 0.1654, Val Loss: 0.1674\n",
            "\n",
            "Epoch 45/50\n"
          ]
        },
        {
          "output_type": "stream",
          "name": "stderr",
          "text": [
            "Training: 100%|██████████| 32/32 [00:05<00:00,  5.81it/s]\n"
          ]
        },
        {
          "output_type": "stream",
          "name": "stdout",
          "text": [
            "Train Loss: 0.1665, Val Loss: 0.1677\n",
            "\n",
            "Epoch 46/50\n"
          ]
        },
        {
          "output_type": "stream",
          "name": "stderr",
          "text": [
            "Training: 100%|██████████| 32/32 [00:05<00:00,  5.92it/s]\n"
          ]
        },
        {
          "output_type": "stream",
          "name": "stdout",
          "text": [
            "Train Loss: 0.1665, Val Loss: 0.1699\n",
            "\n",
            "Epoch 47/50\n"
          ]
        },
        {
          "output_type": "stream",
          "name": "stderr",
          "text": [
            "Training: 100%|██████████| 32/32 [00:05<00:00,  5.72it/s]\n"
          ]
        },
        {
          "output_type": "stream",
          "name": "stdout",
          "text": [
            "Train Loss: 0.1683, Val Loss: 0.1760\n",
            "\n",
            "Epoch 48/50\n"
          ]
        },
        {
          "output_type": "stream",
          "name": "stderr",
          "text": [
            "Training: 100%|██████████| 32/32 [00:05<00:00,  6.15it/s]\n"
          ]
        },
        {
          "output_type": "stream",
          "name": "stdout",
          "text": [
            "Train Loss: 0.1652, Val Loss: 0.1711\n",
            "\n",
            "Epoch 49/50\n"
          ]
        },
        {
          "output_type": "stream",
          "name": "stderr",
          "text": [
            "Training: 100%|██████████| 32/32 [00:05<00:00,  5.60it/s]\n"
          ]
        },
        {
          "output_type": "stream",
          "name": "stdout",
          "text": [
            "Train Loss: 0.1664, Val Loss: 0.1707\n",
            "\n",
            "Epoch 50/50\n"
          ]
        },
        {
          "output_type": "stream",
          "name": "stderr",
          "text": [
            "Training: 100%|██████████| 32/32 [00:05<00:00,  6.13it/s]\n"
          ]
        },
        {
          "output_type": "stream",
          "name": "stdout",
          "text": [
            "Train Loss: 0.1680, Val Loss: 0.1694\n"
          ]
        }
      ]
    },
    {
      "cell_type": "code",
      "execution_count": null,
      "id": "3d56ba49",
      "metadata": {
        "id": "3d56ba49"
      },
      "outputs": [],
      "source": [
        "   \"\"\"Define training loop for LSTM\"\"\"\n",
        "def train(model, training, validation, lr=0.001):\n",
        "\tcriterion = nn.MSELoss()\n",
        "\toptimizer = torch.optim.Adam(model.parameters(), lr=lr)\n",
        "\n",
        "\ttrain_losses = []\n",
        "\tfor data in training:\n",
        "\t\tinputs = data[\"input_ids\"]\n",
        "\t\tinput_padding = 12 - inputs.size()[0], 1024 - inputs.size()[1]\n",
        "\t\tpadded_inputs = nn.functional.pad(input=inputs, pad=(input_padding[1], 0, input_padding[0], 0), mode='constant', value=-1)\n",
        "\t\tinputs = padded_inputs.reshape(12, 1, 1024).type(torch.float32)\n",
        "\n",
        "\t\tlabels = data[\"labels\"]\n",
        "\t\tlabel_padding = 12 - labels.size()[0], 4 - labels.size()[1]\n",
        "\t\tpadded_labels = nn.functional.pad(input=labels, pad=(label_padding[1], 0, label_padding[0], 0), mode='constant', value=-1)\n",
        "\t\tlabels = padded_labels.float()\n",
        "\n",
        "\t\tmodel.train()\n",
        "\t\toptimizer.zero_grad()\n",
        "\t\toutput = model(inputs)\n",
        "\t\tloss = criterion(output, labels)\n",
        "\t\tloss.backward()\n",
        "\t\toptimizer.step()\n",
        "\t\ttrain_losses.append(loss.item())\n",
        "\n",
        "\n",
        "\tvalidation_losses = []\n",
        "\twith torch.no_grad():\n",
        "\t\tfor v_data in validation:\n",
        "\t\t\tv_inputs = v_data[\"input_ids\"]\n",
        "\t\t\tv_input_padding = 12 - v_inputs.size()[0], 1024 - v_inputs.size()[1]\n",
        "\t\t\tv_padded_inputs = nn.functional.pad(input=v_inputs, pad=(v_input_padding[1], 0, v_input_padding[0], 0), mode='constant', value=-1)\n",
        "\t\t\tv_inputs = v_padded_inputs.reshape(12, 1, 1024).type(torch.float32)\n",
        "\n",
        "\t\t\tv_labels = data[\"labels\"]\n",
        "\t\t\tv_label_padding = 12 - v_labels.size()[0], 4 - v_labels.size()[1]\n",
        "\t\t\tv_padded_labels = nn.functional.pad(input=v_labels, pad=(v_label_padding[1], 0, v_label_padding[0], 0), mode='constant', value=-1)\n",
        "\t\t\tv_labels = v_padded_labels.float()\n",
        "\n",
        "\t\t\tmodel.eval()\n",
        "\t\t\tv_output = model(v_inputs)\n",
        "\t\t\tvalidation_loss = criterion(v_output, v_labels)\n",
        "\t\t\tvalidation_losses.append(validation_loss.item())\n",
        "\n",
        "\treturn train_losses, validation_losses\n",
        "\n",
        "# Train LSTM model\n",
        "epochs = 100\n",
        "model = ComposerLSTM(input_size=1024, hidden_size=4096, num_layers=1, num_classes=4)\n",
        "\n",
        "total_train_losses = []\n",
        "total_validation_losses = []\n",
        "\n",
        "for epoch in range(epochs):\n",
        "\tepoch_train_loss, epoch_validation_loss = train(model, dataloader_train, dataloader_valid)\n",
        "\ttotal_train_losses.extend(epoch_train_loss)\n",
        "\ttotal_validation_losses.extend(epoch_validation_loss)\n",
        "\tif (epoch + 1) % 10 == 0:\n",
        "\t\tprint(f\"Epoch {epoch + 1}, train loss: {total_train_losses[-1]:.4f}, validation loss: {total_validation_losses[-1]:.4f}\")"
      ]
    },
    {
      "cell_type": "markdown",
      "id": "30a80768",
      "metadata": {
        "id": "30a80768"
      },
      "source": [
        "Note: LSTM takes a long time to train.  The padding happening inside the loop certainly plays a role but there are likely other issues at play as well."
      ]
    },
    {
      "cell_type": "code",
      "execution_count": 25,
      "id": "4a5d9309",
      "metadata": {
        "id": "4a5d9309",
        "outputId": "9a27831c-17bc-4d00-e58b-fdf9753c9831",
        "colab": {
          "base_uri": "https://localhost:8080/",
          "height": 472
        }
      },
      "outputs": [
        {
          "output_type": "display_data",
          "data": {
            "text/plain": [
              "<Figure size 640x480 with 1 Axes>"
            ],
            "image/png": "[encoded data removed]"
          },
          "metadata": {}
        }
      ],
      "source": [
        "\"\"\"Plot training and validation losses\"\"\"\n",
        "# TODO: Not sure why the training and validation quatities are not the same..\n",
        "plt.title(\"LSTM training losses\")\n",
        "plt.ylabel(\"Loss\")\n",
        "plt.xlabel(\"Epoch\")\n",
        "\n",
        "plt.plot(total_train_losses, label=\"Train loss\")\n",
        "plt.plot(total_validation_losses, label=\"Validation loss\")\n",
        "plt.legend()\n",
        "plt.show()"
      ]
    },
    {
      "cell_type": "markdown",
      "id": "fd4f9892",
      "metadata": {
        "id": "fd4f9892"
      },
      "source": [
        "Evaluate Model"
      ]
    },
    {
      "cell_type": "markdown",
      "id": "a66d8632",
      "metadata": {
        "id": "a66d8632"
      },
      "source": [
        "**NOTE**\n",
        "\n",
        "Nothing below this line has been tested, adjustments are likely needed to work get it all working properly"
      ]
    },
    {
      "cell_type": "code",
      "execution_count": 28,
      "id": "e3060af3",
      "metadata": {
        "id": "e3060af3"
      },
      "outputs": [],
      "source": [
        "with torch.no_grad():\n",
        "    for data in dataloader_test:\n",
        "        inputs = data[\"input_ids\"]\n",
        "        input_padding = 12 - inputs.size()[0], 1024 - inputs.size()[1]\n",
        "        padded_inputs = nn.functional.pad(\n",
        "            input=inputs,\n",
        "            pad=(input_padding[1], 0, input_padding[0], 0),\n",
        "            mode='constant',\n",
        "            value=-1\n",
        "        )\n",
        "        inputs = padded_inputs.view(12, 1024, 1).type(torch.float32).to(device)  # <-- Moved to device\n",
        "\n",
        "        labels = data[\"labels\"]\n",
        "        label_padding = 12 - labels.size()[0], 4 - labels.size()[1]\n",
        "        padded_labels = nn.functional.pad(\n",
        "            input=labels,\n",
        "            pad=(label_padding[1], 0, label_padding[0], 0),\n",
        "            mode='constant',\n",
        "            value=-1\n",
        "        )\n",
        "        labels = padded_labels.float().view(12, -1).argmax(1).view(-1, 1).flatten().to(device)  # <-- Moved to device\n",
        "\n",
        "        outputs = model(inputs)\n",
        "        _, predicted = torch.max(outputs.data, 1)\n",
        "\n",
        "        prediction = torch.cat([prediction, predicted.cpu()], dim=0)  # move to CPU before concatenation\n",
        "        truth = torch.cat([truth, labels.cpu()], dim=0)\n"
      ]
    },
    {
      "cell_type": "code",
      "execution_count": 29,
      "id": "bccce7e4",
      "metadata": {
        "id": "bccce7e4",
        "outputId": "6e3e9183-b944-4b77-e2b6-217ab45603dc",
        "colab": {
          "base_uri": "https://localhost:8080/"
        }
      },
      "outputs": [
        {
          "output_type": "stream",
          "name": "stdout",
          "text": [
            "Model Accuracy: tensor(0.3810)\n",
            "Model Precision: tensor(0.3711)\n",
            "Model Recall: tensor(0.4250)\n",
            "Model F1: tensor(0.3099)\n"
          ]
        }
      ],
      "source": [
        "\"\"\"Create performance metrics\"\"\"\n",
        "accuracy = Accuracy(task=\"multiclass\", num_classes=32)\n",
        "precision = Precision(task=\"multiclass\", average=\"macro\", num_classes=32)\n",
        "recall = Recall(task=\"multiclass\", average=\"macro\", num_classes=32)\n",
        "f1_score = F1Score(task=\"multiclass\", average=\"macro\", num_classes=32)\n",
        "confusion_matric = ConfusionMatrix(task=\"multiclass\", num_classes=32)\n",
        "\n",
        "calculated_accuracy = accuracy(truth, prediction)\n",
        "calculated_precision = precision(truth, prediction)\n",
        "calculated_recall = recall(truth, prediction)\n",
        "calculated_f1_score = f1_score(truth, prediction)\n",
        "calculated_confusion_matric = confusion_matric(truth, prediction)\n",
        "\n",
        "print(\"Model Accuracy:\", calculated_accuracy)\n",
        "print(\"Model Precision:\", calculated_precision)\n",
        "print(\"Model Recall:\", calculated_recall)\n",
        "print(\"Model F1:\", calculated_f1_score)"
      ]
    },
    {
      "cell_type": "code",
      "execution_count": 30,
      "id": "89819083",
      "metadata": {
        "id": "89819083",
        "outputId": "553724c1-1246-49db-b738-76bd3af7c49c",
        "colab": {
          "base_uri": "https://localhost:8080/",
          "height": 508
        }
      },
      "outputs": [
        {
          "output_type": "display_data",
          "data": {
            "text/plain": [
              "<Figure size 640x480 with 1 Axes>"
            ],
            "image/png": "[encoded data removed]"
          },
          "metadata": {}
        }
      ],
      "source": [
        "\"\"\"Vizulaize confusion matrix\"\"\"\n",
        "metric = MulticlassConfusionMatrix(num_classes=4)\n",
        "metric.update(truth, prediction)\n",
        "fig_, ax_ = metric.plot()"
      ]
    },
    {
      "cell_type": "markdown",
      "id": "d4efe8a6",
      "metadata": {
        "id": "d4efe8a6"
      },
      "source": [
        "Optimize hyperparameters"
      ]
    },
    {
      "cell_type": "code",
      "execution_count": null,
      "id": "45271c0a",
      "metadata": {
        "id": "45271c0a"
      },
      "outputs": [],
      "source": [
        "#TODO: play with the parameters and optimize the CNN architecture"
      ]
    }
  ],
  "metadata": {
    "kernelspec": {
      "display_name": "Python 3",
      "name": "python3"
    },
    "language_info": {
      "codemirror_mode": {
        "name": "ipython",
        "version": 3
      },
      "file_extension": ".py",
      "mimetype": "text/x-python",
      "name": "python",
      "nbconvert_exporter": "python",
      "pygments_lexer": "ipython3",
      "version": "3.10.12"
    },
    "colab": {
      "provenance": [],
      "gpuType": "T4"
    },
    "accelerator": "GPU"
  },
  "nbformat": 4,
  "nbformat_minor": 5
}