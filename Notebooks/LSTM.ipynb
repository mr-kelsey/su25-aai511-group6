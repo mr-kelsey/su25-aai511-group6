{
  "cells": [
    {
      "cell_type": "code",
      "execution_count": 35,
      "id": "SCZ81S8hyGuZ",
      "metadata": {
        "colab": {
          "base_uri": "https://localhost:8080/"
        },
        "id": "SCZ81S8hyGuZ",
        "outputId": "3f65e827-28eb-446a-a98c-ac65f3f4e9b1"
      },
      "outputs": [
        {
          "name": "stdout",
          "output_type": "stream",
          "text": [
            "Cloning into 'su25-aai511-group6'...\n",
            "remote: Enumerating objects: 3231, done.\u001b[K\n",
            "remote: Counting objects: 100% (3231/3231), done.\u001b[K\n",
            "remote: Compressing objects: 100% (3157/3157), done.\u001b[K\n",
            "remote: Total 3231 (delta 90), reused 3190 (delta 66), pack-reused 0 (from 0)\u001b[K\n",
            "Receiving objects: 100% (3231/3231), 26.22 MiB | 29.74 MiB/s, done.\n",
            "Resolving deltas: 100% (90/90), done.\n",
            "/content/su25-aai511-group6/su25-aai511-group6/su25-aai511-group6\n",
            "Working directory: /content/su25-aai511-group6/su25-aai511-group6/su25-aai511-group6\n"
          ]
        }
      ],
      "source": [
        "# Clone the repo to access Data/, code/, etc.\n",
        "!git clone https://github.com/mr-kelsey/su25-aai511-group6.git\n",
        "%cd su25-aai511-group6\n",
        "import os\n",
        "print(\"Working directory:\", os.getcwd())\n",
        "\n"
      ]
    },
    {
      "cell_type": "code",
      "execution_count": 36,
      "id": "8XJue2pwjv0i",
      "metadata": {
        "colab": {
          "base_uri": "https://localhost:8080/"
        },
        "id": "8XJue2pwjv0i",
        "outputId": "b0e34a73-7c86-4b64-fd29-61884de0a13e"
      },
      "outputs": [
        {
          "name": "stdout",
          "output_type": "stream",
          "text": [
            "Data  sample_data  su25-aai511-group6\n"
          ]
        }
      ],
      "source": [
        "!ls /content\n"
      ]
    },
    {
      "cell_type": "code",
      "execution_count": 37,
      "id": "t98HeL_U7qbJ",
      "metadata": {
        "colab": {
          "base_uri": "https://localhost:8080/"
        },
        "id": "t98HeL_U7qbJ",
        "outputId": "1805a427-183a-4cf4-c496-1ff543a9542c"
      },
      "outputs": [
        {
          "name": "stdout",
          "output_type": "stream",
          "text": [
            "✅ Found 400 MIDI files\n"
          ]
        }
      ],
      "source": [
        "from pathlib import Path\n",
        "\n",
        "DATA_PATH = Path(\"Data\")\n",
        "AUG_PATH = DATA_PATH / \"Augmented\"\n",
        "midi_paths = list(AUG_PATH.glob(\"**/*.mid\"))\n",
        "print(f\"✅ Found {len(midi_paths)} MIDI files\")\n"
      ]
    },
    {
      "cell_type": "code",
      "execution_count": 38,
      "id": "6fyVkNRgzZA6",
      "metadata": {
        "colab": {
          "base_uri": "https://localhost:8080/"
        },
        "id": "6fyVkNRgzZA6",
        "outputId": "84e1db54-312d-4cf4-a8ca-473f5794f0f9"
      },
      "outputs": [
        {
          "name": "stdout",
          "output_type": "stream",
          "text": [
            "Requirement already satisfied: miditok in /usr/local/lib/python3.11/dist-packages (3.0.6.post1)\n",
            "Requirement already satisfied: huggingface-hub>=0.16.4 in /usr/local/lib/python3.11/dist-packages (from miditok) (0.33.4)\n",
            "Requirement already satisfied: numpy>=1.19 in /usr/local/lib/python3.11/dist-packages (from miditok) (2.0.2)\n",
            "Requirement already satisfied: symusic>=0.5.0 in /usr/local/lib/python3.11/dist-packages (from miditok) (0.5.8)\n",
            "Requirement already satisfied: tokenizers>=0.13.0 in /usr/local/lib/python3.11/dist-packages (from miditok) (0.21.2)\n",
            "Requirement already satisfied: tqdm in /usr/local/lib/python3.11/dist-packages (from miditok) (4.67.1)\n",
            "Requirement already satisfied: filelock in /usr/local/lib/python3.11/dist-packages (from huggingface-hub>=0.16.4->miditok) (3.18.0)\n",
            "Requirement already satisfied: fsspec>=2023.5.0 in /usr/local/lib/python3.11/dist-packages (from huggingface-hub>=0.16.4->miditok) (2025.3.0)\n",
            "Requirement already satisfied: packaging>=20.9 in /usr/local/lib/python3.11/dist-packages (from huggingface-hub>=0.16.4->miditok) (25.0)\n",
            "Requirement already satisfied: pyyaml>=5.1 in /usr/local/lib/python3.11/dist-packages (from huggingface-hub>=0.16.4->miditok) (6.0.2)\n",
            "Requirement already satisfied: requests in /usr/local/lib/python3.11/dist-packages (from huggingface-hub>=0.16.4->miditok) (2.32.3)\n",
            "Requirement already satisfied: typing-extensions>=3.7.4.3 in /usr/local/lib/python3.11/dist-packages (from huggingface-hub>=0.16.4->miditok) (4.14.1)\n",
            "Requirement already satisfied: hf-xet<2.0.0,>=1.1.2 in /usr/local/lib/python3.11/dist-packages (from huggingface-hub>=0.16.4->miditok) (1.1.5)\n",
            "Requirement already satisfied: pySmartDL in /usr/local/lib/python3.11/dist-packages (from symusic>=0.5.0->miditok) (1.3.4)\n",
            "Requirement already satisfied: platformdirs in /usr/local/lib/python3.11/dist-packages (from symusic>=0.5.0->miditok) (4.3.8)\n",
            "Requirement already satisfied: charset-normalizer<4,>=2 in /usr/local/lib/python3.11/dist-packages (from requests->huggingface-hub>=0.16.4->miditok) (3.4.2)\n",
            "Requirement already satisfied: idna<4,>=2.5 in /usr/local/lib/python3.11/dist-packages (from requests->huggingface-hub>=0.16.4->miditok) (3.10)\n",
            "Requirement already satisfied: urllib3<3,>=1.21.1 in /usr/local/lib/python3.11/dist-packages (from requests->huggingface-hub>=0.16.4->miditok) (2.5.0)\n",
            "Requirement already satisfied: certifi>=2017.4.17 in /usr/local/lib/python3.11/dist-packages (from requests->huggingface-hub>=0.16.4->miditok) (2025.7.14)\n"
          ]
        }
      ],
      "source": [
        "!pip install miditok\n"
      ]
    },
    {
      "cell_type": "code",
      "execution_count": 39,
      "id": "Y2ySmfmFz8Gn",
      "metadata": {
        "colab": {
          "base_uri": "https://localhost:8080/"
        },
        "id": "Y2ySmfmFz8Gn",
        "outputId": "02e342e4-dbca-4058-f951-355e348f146f"
      },
      "outputs": [
        {
          "name": "stdout",
          "output_type": "stream",
          "text": [
            "Requirement already satisfied: miditok in /usr/local/lib/python3.11/dist-packages (3.0.6.post1)\n",
            "Requirement already satisfied: miditoolkit in /usr/local/lib/python3.11/dist-packages (1.0.1)\n",
            "Requirement already satisfied: torchmetrics in /usr/local/lib/python3.11/dist-packages (1.8.0)\n",
            "Requirement already satisfied: matplotlib in /usr/local/lib/python3.11/dist-packages (3.10.0)\n",
            "Requirement already satisfied: tqdm in /usr/local/lib/python3.11/dist-packages (4.67.1)\n",
            "Requirement already satisfied: ipywidgets in /usr/local/lib/python3.11/dist-packages (7.7.1)\n",
            "Requirement already satisfied: huggingface-hub>=0.16.4 in /usr/local/lib/python3.11/dist-packages (from miditok) (0.33.4)\n",
            "Requirement already satisfied: numpy>=1.19 in /usr/local/lib/python3.11/dist-packages (from miditok) (2.0.2)\n",
            "Requirement already satisfied: symusic>=0.5.0 in /usr/local/lib/python3.11/dist-packages (from miditok) (0.5.8)\n",
            "Requirement already satisfied: tokenizers>=0.13.0 in /usr/local/lib/python3.11/dist-packages (from miditok) (0.21.2)\n",
            "Requirement already satisfied: mido>=1.1.16 in /usr/local/lib/python3.11/dist-packages (from miditoolkit) (1.3.3)\n",
            "Requirement already satisfied: packaging>17.1 in /usr/local/lib/python3.11/dist-packages (from torchmetrics) (25.0)\n",
            "Requirement already satisfied: torch>=2.0.0 in /usr/local/lib/python3.11/dist-packages (from torchmetrics) (2.6.0+cu124)\n",
            "Requirement already satisfied: lightning-utilities>=0.8.0 in /usr/local/lib/python3.11/dist-packages (from torchmetrics) (0.14.3)\n",
            "Requirement already satisfied: contourpy>=1.0.1 in /usr/local/lib/python3.11/dist-packages (from matplotlib) (1.3.2)\n",
            "Requirement already satisfied: cycler>=0.10 in /usr/local/lib/python3.11/dist-packages (from matplotlib) (0.12.1)\n",
            "Requirement already satisfied: fonttools>=4.22.0 in /usr/local/lib/python3.11/dist-packages (from matplotlib) (4.59.0)\n",
            "Requirement already satisfied: kiwisolver>=1.3.1 in /usr/local/lib/python3.11/dist-packages (from matplotlib) (1.4.8)\n",
            "Requirement already satisfied: pillow>=8 in /usr/local/lib/python3.11/dist-packages (from matplotlib) (11.3.0)\n",
            "Requirement already satisfied: pyparsing>=2.3.1 in /usr/local/lib/python3.11/dist-packages (from matplotlib) (3.2.3)\n",
            "Requirement already satisfied: python-dateutil>=2.7 in /usr/local/lib/python3.11/dist-packages (from matplotlib) (2.9.0.post0)\n",
            "Requirement already satisfied: ipykernel>=4.5.1 in /usr/local/lib/python3.11/dist-packages (from ipywidgets) (6.17.1)\n",
            "Requirement already satisfied: ipython-genutils~=0.2.0 in /usr/local/lib/python3.11/dist-packages (from ipywidgets) (0.2.0)\n",
            "Requirement already satisfied: traitlets>=4.3.1 in /usr/local/lib/python3.11/dist-packages (from ipywidgets) (5.7.1)\n",
            "Requirement already satisfied: widgetsnbextension~=3.6.0 in /usr/local/lib/python3.11/dist-packages (from ipywidgets) (3.6.10)\n",
            "Requirement already satisfied: ipython>=4.0.0 in /usr/local/lib/python3.11/dist-packages (from ipywidgets) (7.34.0)\n",
            "Requirement already satisfied: jupyterlab-widgets>=1.0.0 in /usr/local/lib/python3.11/dist-packages (from ipywidgets) (3.0.15)\n",
            "Requirement already satisfied: filelock in /usr/local/lib/python3.11/dist-packages (from huggingface-hub>=0.16.4->miditok) (3.18.0)\n",
            "Requirement already satisfied: fsspec>=2023.5.0 in /usr/local/lib/python3.11/dist-packages (from huggingface-hub>=0.16.4->miditok) (2025.3.0)\n",
            "Requirement already satisfied: pyyaml>=5.1 in /usr/local/lib/python3.11/dist-packages (from huggingface-hub>=0.16.4->miditok) (6.0.2)\n",
            "Requirement already satisfied: requests in /usr/local/lib/python3.11/dist-packages (from huggingface-hub>=0.16.4->miditok) (2.32.3)\n",
            "Requirement already satisfied: typing-extensions>=3.7.4.3 in /usr/local/lib/python3.11/dist-packages (from huggingface-hub>=0.16.4->miditok) (4.14.1)\n",
            "Requirement already satisfied: hf-xet<2.0.0,>=1.1.2 in /usr/local/lib/python3.11/dist-packages (from huggingface-hub>=0.16.4->miditok) (1.1.5)\n",
            "Requirement already satisfied: debugpy>=1.0 in /usr/local/lib/python3.11/dist-packages (from ipykernel>=4.5.1->ipywidgets) (1.8.15)\n",
            "Requirement already satisfied: jupyter-client>=6.1.12 in /usr/local/lib/python3.11/dist-packages (from ipykernel>=4.5.1->ipywidgets) (6.1.12)\n",
            "Requirement already satisfied: matplotlib-inline>=0.1 in /usr/local/lib/python3.11/dist-packages (from ipykernel>=4.5.1->ipywidgets) (0.1.7)\n",
            "Requirement already satisfied: nest-asyncio in /usr/local/lib/python3.11/dist-packages (from ipykernel>=4.5.1->ipywidgets) (1.6.0)\n",
            "Requirement already satisfied: psutil in /usr/local/lib/python3.11/dist-packages (from ipykernel>=4.5.1->ipywidgets) (5.9.5)\n",
            "Requirement already satisfied: pyzmq>=17 in /usr/local/lib/python3.11/dist-packages (from ipykernel>=4.5.1->ipywidgets) (24.0.1)\n",
            "Requirement already satisfied: tornado>=6.1 in /usr/local/lib/python3.11/dist-packages (from ipykernel>=4.5.1->ipywidgets) (6.4.2)\n",
            "Requirement already satisfied: setuptools>=18.5 in /usr/local/lib/python3.11/dist-packages (from ipython>=4.0.0->ipywidgets) (75.2.0)\n",
            "Requirement already satisfied: jedi>=0.16 in /usr/local/lib/python3.11/dist-packages (from ipython>=4.0.0->ipywidgets) (0.19.2)\n",
            "Requirement already satisfied: decorator in /usr/local/lib/python3.11/dist-packages (from ipython>=4.0.0->ipywidgets) (4.4.2)\n",
            "Requirement already satisfied: pickleshare in /usr/local/lib/python3.11/dist-packages (from ipython>=4.0.0->ipywidgets) (0.7.5)\n",
            "Requirement already satisfied: prompt-toolkit!=3.0.0,!=3.0.1,<3.1.0,>=2.0.0 in /usr/local/lib/python3.11/dist-packages (from ipython>=4.0.0->ipywidgets) (3.0.51)\n",
            "Requirement already satisfied: pygments in /usr/local/lib/python3.11/dist-packages (from ipython>=4.0.0->ipywidgets) (2.19.2)\n",
            "Requirement already satisfied: backcall in /usr/local/lib/python3.11/dist-packages (from ipython>=4.0.0->ipywidgets) (0.2.0)\n",
            "Requirement already satisfied: pexpect>4.3 in /usr/local/lib/python3.11/dist-packages (from ipython>=4.0.0->ipywidgets) (4.9.0)\n",
            "Requirement already satisfied: six>=1.5 in /usr/local/lib/python3.11/dist-packages (from python-dateutil>=2.7->matplotlib) (1.17.0)\n",
            "Requirement already satisfied: pySmartDL in /usr/local/lib/python3.11/dist-packages (from symusic>=0.5.0->miditok) (1.3.4)\n",
            "Requirement already satisfied: platformdirs in /usr/local/lib/python3.11/dist-packages (from symusic>=0.5.0->miditok) (4.3.8)\n",
            "Requirement already satisfied: networkx in /usr/local/lib/python3.11/dist-packages (from torch>=2.0.0->torchmetrics) (3.5)\n",
            "Requirement already satisfied: jinja2 in /usr/local/lib/python3.11/dist-packages (from torch>=2.0.0->torchmetrics) (3.1.6)\n",
            "Requirement already satisfied: nvidia-cuda-nvrtc-cu12==12.4.127 in /usr/local/lib/python3.11/dist-packages (from torch>=2.0.0->torchmetrics) (12.4.127)\n",
            "Requirement already satisfied: nvidia-cuda-runtime-cu12==12.4.127 in /usr/local/lib/python3.11/dist-packages (from torch>=2.0.0->torchmetrics) (12.4.127)\n",
            "Requirement already satisfied: nvidia-cuda-cupti-cu12==12.4.127 in /usr/local/lib/python3.11/dist-packages (from torch>=2.0.0->torchmetrics) (12.4.127)\n",
            "Requirement already satisfied: nvidia-cudnn-cu12==9.1.0.70 in /usr/local/lib/python3.11/dist-packages (from torch>=2.0.0->torchmetrics) (9.1.0.70)\n",
            "Requirement already satisfied: nvidia-cublas-cu12==12.4.5.8 in /usr/local/lib/python3.11/dist-packages (from torch>=2.0.0->torchmetrics) (12.4.5.8)\n",
            "Requirement already satisfied: nvidia-cufft-cu12==11.2.1.3 in /usr/local/lib/python3.11/dist-packages (from torch>=2.0.0->torchmetrics) (11.2.1.3)\n",
            "Requirement already satisfied: nvidia-curand-cu12==10.3.5.147 in /usr/local/lib/python3.11/dist-packages (from torch>=2.0.0->torchmetrics) (10.3.5.147)\n",
            "Requirement already satisfied: nvidia-cusolver-cu12==11.6.1.9 in /usr/local/lib/python3.11/dist-packages (from torch>=2.0.0->torchmetrics) (11.6.1.9)\n",
            "Requirement already satisfied: nvidia-cusparse-cu12==12.3.1.170 in /usr/local/lib/python3.11/dist-packages (from torch>=2.0.0->torchmetrics) (12.3.1.170)\n",
            "Requirement already satisfied: nvidia-cusparselt-cu12==0.6.2 in /usr/local/lib/python3.11/dist-packages (from torch>=2.0.0->torchmetrics) (0.6.2)\n",
            "Requirement already satisfied: nvidia-nccl-cu12==2.21.5 in /usr/local/lib/python3.11/dist-packages (from torch>=2.0.0->torchmetrics) (2.21.5)\n",
            "Requirement already satisfied: nvidia-nvtx-cu12==12.4.127 in /usr/local/lib/python3.11/dist-packages (from torch>=2.0.0->torchmetrics) (12.4.127)\n",
            "Requirement already satisfied: nvidia-nvjitlink-cu12==12.4.127 in /usr/local/lib/python3.11/dist-packages (from torch>=2.0.0->torchmetrics) (12.4.127)\n",
            "Requirement already satisfied: triton==3.2.0 in /usr/local/lib/python3.11/dist-packages (from torch>=2.0.0->torchmetrics) (3.2.0)\n",
            "Requirement already satisfied: sympy==1.13.1 in /usr/local/lib/python3.11/dist-packages (from torch>=2.0.0->torchmetrics) (1.13.1)\n",
            "Requirement already satisfied: mpmath<1.4,>=1.1.0 in /usr/local/lib/python3.11/dist-packages (from sympy==1.13.1->torch>=2.0.0->torchmetrics) (1.3.0)\n",
            "Requirement already satisfied: notebook>=4.4.1 in /usr/local/lib/python3.11/dist-packages (from widgetsnbextension~=3.6.0->ipywidgets) (6.5.7)\n",
            "Requirement already satisfied: parso<0.9.0,>=0.8.4 in /usr/local/lib/python3.11/dist-packages (from jedi>=0.16->ipython>=4.0.0->ipywidgets) (0.8.4)\n",
            "Requirement already satisfied: jupyter-core>=4.6.0 in /usr/local/lib/python3.11/dist-packages (from jupyter-client>=6.1.12->ipykernel>=4.5.1->ipywidgets) (5.8.1)\n",
            "Requirement already satisfied: argon2-cffi in /usr/local/lib/python3.11/dist-packages (from notebook>=4.4.1->widgetsnbextension~=3.6.0->ipywidgets) (25.1.0)\n",
            "Requirement already satisfied: nbformat in /usr/local/lib/python3.11/dist-packages (from notebook>=4.4.1->widgetsnbextension~=3.6.0->ipywidgets) (5.10.4)\n",
            "Requirement already satisfied: nbconvert>=5 in /usr/local/lib/python3.11/dist-packages (from notebook>=4.4.1->widgetsnbextension~=3.6.0->ipywidgets) (7.16.6)\n",
            "Requirement already satisfied: Send2Trash>=1.8.0 in /usr/local/lib/python3.11/dist-packages (from notebook>=4.4.1->widgetsnbextension~=3.6.0->ipywidgets) (1.8.3)\n",
            "Requirement already satisfied: terminado>=0.8.3 in /usr/local/lib/python3.11/dist-packages (from notebook>=4.4.1->widgetsnbextension~=3.6.0->ipywidgets) (0.18.1)\n",
            "Requirement already satisfied: prometheus-client in /usr/local/lib/python3.11/dist-packages (from notebook>=4.4.1->widgetsnbextension~=3.6.0->ipywidgets) (0.22.1)\n",
            "Requirement already satisfied: nbclassic>=0.4.7 in /usr/local/lib/python3.11/dist-packages (from notebook>=4.4.1->widgetsnbextension~=3.6.0->ipywidgets) (1.3.1)\n",
            "Requirement already satisfied: ptyprocess>=0.5 in /usr/local/lib/python3.11/dist-packages (from pexpect>4.3->ipython>=4.0.0->ipywidgets) (0.7.0)\n",
            "Requirement already satisfied: wcwidth in /usr/local/lib/python3.11/dist-packages (from prompt-toolkit!=3.0.0,!=3.0.1,<3.1.0,>=2.0.0->ipython>=4.0.0->ipywidgets) (0.2.13)\n",
            "Requirement already satisfied: MarkupSafe>=2.0 in /usr/local/lib/python3.11/dist-packages (from jinja2->torch>=2.0.0->torchmetrics) (3.0.2)\n",
            "Requirement already satisfied: charset-normalizer<4,>=2 in /usr/local/lib/python3.11/dist-packages (from requests->huggingface-hub>=0.16.4->miditok) (3.4.2)\n",
            "Requirement already satisfied: idna<4,>=2.5 in /usr/local/lib/python3.11/dist-packages (from requests->huggingface-hub>=0.16.4->miditok) (3.10)\n",
            "Requirement already satisfied: urllib3<3,>=1.21.1 in /usr/local/lib/python3.11/dist-packages (from requests->huggingface-hub>=0.16.4->miditok) (2.5.0)\n",
            "Requirement already satisfied: certifi>=2017.4.17 in /usr/local/lib/python3.11/dist-packages (from requests->huggingface-hub>=0.16.4->miditok) (2025.7.14)\n",
            "Requirement already satisfied: notebook-shim>=0.2.3 in /usr/local/lib/python3.11/dist-packages (from nbclassic>=0.4.7->notebook>=4.4.1->widgetsnbextension~=3.6.0->ipywidgets) (0.2.4)\n",
            "Requirement already satisfied: beautifulsoup4 in /usr/local/lib/python3.11/dist-packages (from nbconvert>=5->notebook>=4.4.1->widgetsnbextension~=3.6.0->ipywidgets) (4.13.4)\n",
            "Requirement already satisfied: bleach!=5.0.0 in /usr/local/lib/python3.11/dist-packages (from bleach[css]!=5.0.0->nbconvert>=5->notebook>=4.4.1->widgetsnbextension~=3.6.0->ipywidgets) (6.2.0)\n",
            "Requirement already satisfied: defusedxml in /usr/local/lib/python3.11/dist-packages (from nbconvert>=5->notebook>=4.4.1->widgetsnbextension~=3.6.0->ipywidgets) (0.7.1)\n",
            "Requirement already satisfied: jupyterlab-pygments in /usr/local/lib/python3.11/dist-packages (from nbconvert>=5->notebook>=4.4.1->widgetsnbextension~=3.6.0->ipywidgets) (0.3.0)\n",
            "Requirement already satisfied: mistune<4,>=2.0.3 in /usr/local/lib/python3.11/dist-packages (from nbconvert>=5->notebook>=4.4.1->widgetsnbextension~=3.6.0->ipywidgets) (3.1.3)\n",
            "Requirement already satisfied: nbclient>=0.5.0 in /usr/local/lib/python3.11/dist-packages (from nbconvert>=5->notebook>=4.4.1->widgetsnbextension~=3.6.0->ipywidgets) (0.10.2)\n",
            "Requirement already satisfied: pandocfilters>=1.4.1 in /usr/local/lib/python3.11/dist-packages (from nbconvert>=5->notebook>=4.4.1->widgetsnbextension~=3.6.0->ipywidgets) (1.5.1)\n",
            "Requirement already satisfied: fastjsonschema>=2.15 in /usr/local/lib/python3.11/dist-packages (from nbformat->notebook>=4.4.1->widgetsnbextension~=3.6.0->ipywidgets) (2.21.1)\n",
            "Requirement already satisfied: jsonschema>=2.6 in /usr/local/lib/python3.11/dist-packages (from nbformat->notebook>=4.4.1->widgetsnbextension~=3.6.0->ipywidgets) (4.25.0)\n",
            "Requirement already satisfied: argon2-cffi-bindings in /usr/local/lib/python3.11/dist-packages (from argon2-cffi->notebook>=4.4.1->widgetsnbextension~=3.6.0->ipywidgets) (21.2.0)\n",
            "Requirement already satisfied: webencodings in /usr/local/lib/python3.11/dist-packages (from bleach!=5.0.0->bleach[css]!=5.0.0->nbconvert>=5->notebook>=4.4.1->widgetsnbextension~=3.6.0->ipywidgets) (0.5.1)\n",
            "Requirement already satisfied: tinycss2<1.5,>=1.1.0 in /usr/local/lib/python3.11/dist-packages (from bleach[css]!=5.0.0->nbconvert>=5->notebook>=4.4.1->widgetsnbextension~=3.6.0->ipywidgets) (1.4.0)\n",
            "Requirement already satisfied: attrs>=22.2.0 in /usr/local/lib/python3.11/dist-packages (from jsonschema>=2.6->nbformat->notebook>=4.4.1->widgetsnbextension~=3.6.0->ipywidgets) (25.3.0)\n",
            "Requirement already satisfied: jsonschema-specifications>=2023.03.6 in /usr/local/lib/python3.11/dist-packages (from jsonschema>=2.6->nbformat->notebook>=4.4.1->widgetsnbextension~=3.6.0->ipywidgets) (2025.4.1)\n",
            "Requirement already satisfied: referencing>=0.28.4 in /usr/local/lib/python3.11/dist-packages (from jsonschema>=2.6->nbformat->notebook>=4.4.1->widgetsnbextension~=3.6.0->ipywidgets) (0.36.2)\n",
            "Requirement already satisfied: rpds-py>=0.7.1 in /usr/local/lib/python3.11/dist-packages (from jsonschema>=2.6->nbformat->notebook>=4.4.1->widgetsnbextension~=3.6.0->ipywidgets) (0.26.0)\n",
            "Requirement already satisfied: jupyter-server<3,>=1.8 in /usr/local/lib/python3.11/dist-packages (from notebook-shim>=0.2.3->nbclassic>=0.4.7->notebook>=4.4.1->widgetsnbextension~=3.6.0->ipywidgets) (1.16.0)\n",
            "Requirement already satisfied: cffi>=1.0.1 in /usr/local/lib/python3.11/dist-packages (from argon2-cffi-bindings->argon2-cffi->notebook>=4.4.1->widgetsnbextension~=3.6.0->ipywidgets) (1.17.1)\n",
            "Requirement already satisfied: soupsieve>1.2 in /usr/local/lib/python3.11/dist-packages (from beautifulsoup4->nbconvert>=5->notebook>=4.4.1->widgetsnbextension~=3.6.0->ipywidgets) (2.7)\n",
            "Requirement already satisfied: pycparser in /usr/local/lib/python3.11/dist-packages (from cffi>=1.0.1->argon2-cffi-bindings->argon2-cffi->notebook>=4.4.1->widgetsnbextension~=3.6.0->ipywidgets) (2.22)\n",
            "Requirement already satisfied: anyio>=3.1.0 in /usr/local/lib/python3.11/dist-packages (from jupyter-server<3,>=1.8->notebook-shim>=0.2.3->nbclassic>=0.4.7->notebook>=4.4.1->widgetsnbextension~=3.6.0->ipywidgets) (4.9.0)\n",
            "Requirement already satisfied: websocket-client in /usr/local/lib/python3.11/dist-packages (from jupyter-server<3,>=1.8->notebook-shim>=0.2.3->nbclassic>=0.4.7->notebook>=4.4.1->widgetsnbextension~=3.6.0->ipywidgets) (1.8.0)\n",
            "Requirement already satisfied: sniffio>=1.1 in /usr/local/lib/python3.11/dist-packages (from anyio>=3.1.0->jupyter-server<3,>=1.8->notebook-shim>=0.2.3->nbclassic>=0.4.7->notebook>=4.4.1->widgetsnbextension~=3.6.0->ipywidgets) (1.3.1)\n"
          ]
        }
      ],
      "source": [
        "!pip install miditok miditoolkit torchmetrics matplotlib tqdm ipywidgets\n"
      ]
    },
    {
      "cell_type": "code",
      "execution_count": 72,
      "id": "77c7c43c",
      "metadata": {
        "id": "77c7c43c"
      },
      "outputs": [],
      "source": [
        "\"\"\"Imports\"\"\"\n",
        "import matplotlib.pyplot as plt\n",
        "import numpy as np\n",
        "import torch\n",
        "import torch.nn as nn\n",
        "\n",
        "from miditok import REMI, TokenizerConfig\n",
        "from miditok.pytorch_data import DatasetMIDI, DataCollator\n",
        "from miditok.utils import split_files_for_training\n",
        "from pathlib import Path\n",
        "from random import shuffle, seed as random_seed\n",
        "from torch.utils.data import DataLoader\n",
        "from torchmetrics import Accuracy, Precision, Recall, F1Score, ConfusionMatrix\n",
        "from torchmetrics.classification import MulticlassConfusionMatrix"
      ]
    },
    {
      "cell_type": "code",
      "execution_count": 73,
      "id": "b2461b84",
      "metadata": {
        "colab": {
          "base_uri": "https://localhost:8080/"
        },
        "id": "b2461b84",
        "outputId": "fa38e230-c514-4fcd-887d-68db48250fb9"
      },
      "outputs": [
        {
          "name": "stdout",
          "output_type": "stream",
          "text": [
            "Using device: cuda\n"
          ]
        }
      ],
      "source": [
        "\"\"\"Set seeds and device\"\"\"\n",
        "random_seed(73)\n",
        "np.random.seed(73)\n",
        "torch.manual_seed(73)\n",
        "if torch.cuda.is_available():\n",
        "    torch.cuda.manual_seed_all(73)\n",
        "\n",
        "device = torch.device(\"cuda\" if torch.cuda.is_available() else \"cpu\")\n",
        "print(f\"Using device: {device}\")"
      ]
    },
    {
      "cell_type": "markdown",
      "id": "f78a15bc",
      "metadata": {
        "id": "f78a15bc"
      },
      "source": [
        "Prepare Data for LSTM architecture"
      ]
    },
    {
      "cell_type": "code",
      "execution_count": 74,
      "id": "029fb720",
      "metadata": {
        "colab": {
          "base_uri": "https://localhost:8080/"
        },
        "id": "029fb720",
        "outputId": "cf5011aa-88cd-4306-f7d8-264b234f12ad"
      },
      "outputs": [
        {
          "name": "stdout",
          "output_type": "stream",
          "text": [
            "True\n"
          ]
        }
      ],
      "source": [
        "\"\"\"Train new tokenizer based on all augmented data\"\"\"\n",
        "DATA_PATH = Path(Path.cwd().parent, \"Data\")\n",
        "midi_paths = list(Path(DATA_PATH, \"Augmented\").glob(f\"**/*.mid\"))\n",
        "\n",
        "config = TokenizerConfig(use_chords=True, use_rests=True, use_tempos=True, use_programs=True, one_token_stream_for_programs=False)\n",
        "tokenizer = REMI(config)\n",
        "tokenizer.train(vocab_size=500, files_paths=midi_paths)\n",
        "\n",
        "tokenizer.is_trained\n",
        "# NOTE: The vocab_size is a hyperparameter we could play with for optimization\n",
        "\n",
        "print(tokenizer.is_trained)\n"
      ]
    },
    {
      "cell_type": "code",
      "execution_count": 75,
      "id": "56ibAyZC-CE0",
      "metadata": {
        "colab": {
          "base_uri": "https://localhost:8080/"
        },
        "id": "56ibAyZC-CE0",
        "outputId": "0f47c567-6187-4624-8b82-08def826a05b"
      },
      "outputs": [
        {
          "name": "stdout",
          "output_type": "stream",
          "text": [
            "✅ 400 files with notes retained\n"
          ]
        }
      ],
      "source": [
        "from miditoolkit import MidiFile\n",
        "\n",
        "# Filter midi_paths to keep only files that contain notes\n",
        "def file_has_notes(path):\n",
        "    try:\n",
        "\n",
        "        midi = MidiFile(str(path))\n",
        "\n",
        "        return any(len(track.notes) > 0 for track in midi.instruments)\n",
        "    except:\n",
        "        return False\n",
        "\n",
        "midi_paths = [p for p in midi_paths if file_has_notes(p)]\n",
        "print(f\"✅ {len(midi_paths)} files with notes retained\")\n",
        "\n",
        "\n"
      ]
    },
    {
      "cell_type": "code",
      "execution_count": 95,
      "id": "mWE9heXUlmpC",
      "metadata": {
        "colab": {
          "base_uri": "https://localhost:8080/"
        },
        "id": "mWE9heXUlmpC",
        "outputId": "ae76e09d-c28a-402e-e3a4-dc8ee28cb357"
      },
      "outputs": [
        {
          "name": "stdout",
          "output_type": "stream",
          "text": [
            "🎵 Found 400 .mid files\n"
          ]
        }
      ],
      "source": [
        "from pathlib import Path\n",
        "\n",
        "# Recursively get all .mid files from the Augmented folder\n",
        "midi_paths = list(Path(\"Data/Augmented\").rglob(\"*.mid\"))\n",
        "\n",
        "print(f\"🎵 Found {len(midi_paths)} .mid files\")\n"
      ]
    },
    {
      "cell_type": "code",
      "execution_count": 96,
      "id": "JV9ats2anwNh",
      "metadata": {
        "colab": {
          "base_uri": "https://localhost:8080/"
        },
        "id": "JV9ats2anwNh",
        "outputId": "da5fb1dd-af05-49cc-9a4f-f3753549016e"
      },
      "outputs": [
        {
          "name": "stdout",
          "output_type": "stream",
          "text": [
            "Data/Augmented/Beethoven/0012_26#p-6.mid\n",
            "Data/Augmented/Beethoven/0012_16#d96.mid\n",
            "Data/Augmented/Beethoven/0012_4#v4.mid\n",
            "Data/Augmented/Beethoven/0012_39#v-4.mid\n",
            "Data/Augmented/Beethoven/0012_32#v-4.mid\n"
          ]
        }
      ],
      "source": [
        "for p in midi_paths[:5]:\n",
        "    print(p)\n"
      ]
    },
    {
      "cell_type": "code",
      "execution_count": 98,
      "id": "6A5fZsSun_vR",
      "metadata": {
        "id": "6A5fZsSun_vR"
      },
      "outputs": [],
      "source": [
        "from miditoolkit import MidiFile\n",
        "\n",
        "def file_has_notes(path):\n",
        "    try:\n",
        "        midi = MidiFile(str(path))\n",
        "        # Fallback to checking notes even if .instruments is empty\n",
        "        if midi.instruments:\n",
        "            return any(len(track.notes) > 0 for track in midi.instruments)\n",
        "        else:\n",
        "            return len(midi.notes) > 0  # Fallback for type-0 files\n",
        "    except Exception as e:\n",
        "        print(f\"❌ Error in {path.name}: {e}\")\n",
        "        return False\n"
      ]
    },
    {
      "cell_type": "code",
      "execution_count": 99,
      "id": "b-1P6_sO-u1b",
      "metadata": {
        "colab": {
          "base_uri": "https://localhost:8080/"
        },
        "id": "b-1P6_sO-u1b",
        "outputId": "61b18ba0-481b-42a2-bcbe-7022f8c3d899"
      },
      "outputs": [
        {
          "name": "stdout",
          "output_type": "stream",
          "text": [
            "✅ 400 files with notes retained\n"
          ]
        }
      ],
      "source": [
        "filtered_paths = [p for p in midi_paths if file_has_notes(p)]\n",
        "print(f\"✅ {len(filtered_paths)} files with notes retained\")\n",
        "\n"
      ]
    },
    {
      "cell_type": "code",
      "execution_count": 106,
      "id": "oZMgWrfjo3gC",
      "metadata": {
        "colab": {
          "base_uri": "https://localhost:8080/"
        },
        "id": "oZMgWrfjo3gC",
        "outputId": "83a135dc-62a7-4e47-f368-d03dfe9f5c8c"
      },
      "outputs": [
        {
          "name": "stdout",
          "output_type": "stream",
          "text": [
            "Number of MIDI files: 400\n"
          ]
        }
      ],
      "source": [
        "from pathlib import Path\n",
        "\n",
        "# using absolute paths to avoid mismatch\n",
        "midi_paths = list(Path(\"Data/Augmented\").resolve().rglob(\"*.mid\"))\n",
        "print(f\"Number of MIDI files: {len(midi_paths)}\")"
      ]
    },
    {
      "cell_type": "code",
      "execution_count": 107,
      "id": "42bfdd11",
      "metadata": {
        "colab": {
          "base_uri": "https://localhost:8080/"
        },
        "id": "42bfdd11",
        "outputId": "f041ebc2-989b-4684-81a4-f795c4ffc916"
      },
      "outputs": [
        {
          "name": "stderr",
          "output_type": "stream",
          "text": [
            "Splitting music files (/content/su25-aai511-group6/su25-aai511-group6/Data/LSTM/Train): 100%|██████████| 320/320 [00:00<00:00, 928.18it/s]\n",
            "Splitting music files (/content/su25-aai511-group6/su25-aai511-group6/Data/LSTM/Validate): 100%|██████████| 20/20 [00:00<00:00, 875.12it/s]\n",
            "Splitting music files (/content/su25-aai511-group6/su25-aai511-group6/Data/LSTM/Test): 100%|██████████| 60/60 [00:00<00:00, 994.26it/s]\n"
          ]
        }
      ],
      "source": [
        "\"\"\"Split into train/valid/test datasets using roughly 15% of the data for each of valid and test\"\"\"\n",
        "total_num_files = len(midi_paths)\n",
        "num_files_valid = round(total_num_files * 0.05)\n",
        "num_files_test = round(total_num_files * 0.15)\n",
        "shuffle(midi_paths)\n",
        "midi_paths_valid = midi_paths[:num_files_valid]\n",
        "midi_paths_test = midi_paths[num_files_valid:num_files_valid + num_files_test]\n",
        "midi_paths_train = midi_paths[num_files_valid + num_files_test:]\n",
        "\n",
        "for files_paths, subset_name in (\n",
        "    (midi_paths_train, \"Train\"), (midi_paths_valid, \"Validate\"), (midi_paths_test, \"Test\")\n",
        "):\n",
        "    subset_chunks_dir = Path(DATA_PATH, \"LSTM\", subset_name)\n",
        "    split_files_for_training(\n",
        "        files_paths=files_paths,\n",
        "        tokenizer=tokenizer,\n",
        "        save_dir=subset_chunks_dir,\n",
        "        max_seq_len=1024,\n",
        "        num_overlap_bars=2,\n",
        "    )"
      ]
    },
    {
      "cell_type": "code",
      "execution_count": null,
      "id": "017d90a8",
      "metadata": {
        "id": "017d90a8"
      },
      "outputs": [],
      "source": [
        "\"\"\"Create torch compatable data loaders using the datasets created above\"\"\"\n",
        "class Capture:\n",
        "\tdef __init__(self):\n",
        "\t\tself.score = None\n",
        "\t\tself.tok_sequence = None\n",
        "\n",
        "\tdef lable_composer(self, score, tok_sequence, file_path):\n",
        "\t\tself.score = score\n",
        "\t\tself.tok_sequence = tok_sequence\n",
        "\t\tcomposer = file_path.parts[-2:-1]\n",
        "\t\tif \"Bach\" in composer:\n",
        "\t\t\treturn 0\n",
        "\t\telif \"Beethoven\" in composer:\n",
        "\t\t\treturn 1\n",
        "\t\telif \"Chopin\" in composer:\n",
        "\t\t\treturn 2\n",
        "\t\telif \"Mozart\" in composer:\n",
        "\t\t\treturn 3\n",
        "\t\telse:\n",
        "\t\t\treturn -1\n",
        "\n",
        "capture = Capture()\n",
        "collator = DataCollator(tokenizer.pad_token_id)\n",
        "use_cuda = torch.cuda.is_available()\n",
        "\n",
        "dataset_train = DatasetMIDI(\n",
        "    files_paths=list(Path(DATA_PATH, \"LSTM\", \"Train\").glob(\"**/*.mid\")),\n",
        "    tokenizer=tokenizer,\n",
        "    max_seq_len=1024,\n",
        "    bos_token_id=tokenizer[\"BOS_None\"],\n",
        "    eos_token_id=tokenizer[\"EOS_None\"],\n",
        "    func_to_get_labels=capture.lable_composer\n",
        ")\n",
        "dataloader_train = DataLoader(dataset_train, batch_size=16, collate_fn=collator, shuffle=True, pin_memory=use_cuda)\n",
        "\n",
        "dataset_valid = DatasetMIDI(\n",
        "    files_paths=list(Path(DATA_PATH, \"LSTM\", \"Validate\").glob(\"**/*.mid\")),\n",
        "    tokenizer=tokenizer,\n",
        "    max_seq_len=1024,\n",
        "    bos_token_id=tokenizer[\"BOS_None\"],\n",
        "    eos_token_id=tokenizer[\"EOS_None\"],\n",
        "\tfunc_to_get_labels=capture.lable_composer\n",
        ")\n",
        "dataloader_valid = DataLoader(dataset_valid, batch_size=16, collate_fn=collator, shuffle=True, pin_memory=use_cuda) # increased batch size to 16 for faster training\n",
        "\n",
        "dataset_test = DatasetMIDI(\n",
        "    files_paths=list(Path(DATA_PATH, \"LSTM\", \"Test\").glob(\"**/*.mid\")),\n",
        "    tokenizer=tokenizer,\n",
        "    max_seq_len=1024,\n",
        "    bos_token_id=tokenizer[\"BOS_None\"],\n",
        "    eos_token_id=tokenizer[\"EOS_None\"],\n",
        "\tfunc_to_get_labels=capture.lable_composer\n",
        ")\n",
        "dataloader_test = DataLoader(dataset_test, batch_size=16, collate_fn=collator, pin_memory=use_cuda) #using pin memory to make execution faster in GPU(by speeding up datatrafer from cpu to gpu)"
      ]
    },
    {
      "cell_type": "markdown",
      "id": "08d683cd",
      "metadata": {
        "id": "08d683cd"
      },
      "source": [
        "Build Model"
      ]
    },
    {
      "cell_type": "code",
      "execution_count": 109,
      "id": "a9d0cb08",
      "metadata": {
        "id": "a9d0cb08"
      },
      "outputs": [],
      "source": [
        "# LSTM model definition for sequence prediction\n",
        "\n",
        "\n",
        "class ComposerLSTM(nn.Module):\n",
        "    def __init__(self, input_size, hidden_size, num_layers, num_classes, dropout=0):\n",
        "        super(ComposerLSTM, self).__init__()\n",
        "\n",
        "        self.lstm = nn.LSTM(input_size, hidden_size, num_layers,\n",
        "                            batch_first=True, dropout=dropout, bidirectional=True)\n",
        "\n",
        "        self.fc1 = nn.Linear(hidden_size * 2, 64)\n",
        "        self.relu = nn.ReLU()\n",
        "        self.fc2 = nn.Linear(64, num_classes)\n",
        "\n",
        "    def forward(self, x):\n",
        "      # x is a PackedSequence\n",
        "      packed_output, (hn, cn) = self.lstm(x)  # hn: (num_layers*2, batch, hidden_size)\n",
        "\n",
        "      # Grab the last layer’s forward and backward hidden states\n",
        "      forward = hn[-2, :, :]  # shape: (batch, hidden_size)\n",
        "      backward = hn[-1, :, :] # shape: (batch, hidden_size)\n",
        "      out = torch.cat((forward, backward), dim=1)\n",
        "\n",
        "      out = self.fc1(out)\n",
        "      out = self.relu(out)\n",
        "      out = self.fc2(out)\n",
        "      return out\n",
        "\n"
      ]
    },
    {
      "cell_type": "markdown",
      "id": "d3abb22e",
      "metadata": {
        "id": "d3abb22e"
      },
      "source": [
        "Train Model"
      ]
    },
    {
      "cell_type": "code",
      "execution_count": 110,
      "id": "RJ12EH3qromX",
      "metadata": {
        "colab": {
          "base_uri": "https://localhost:8080/"
        },
        "id": "RJ12EH3qromX",
        "outputId": "8ec0820e-56fd-48c1-836a-394eb5cc29e5"
      },
      "outputs": [
        {
          "name": "stdout",
          "output_type": "stream",
          "text": [
            "\n",
            "Epoch 1/100\n",
            "Train Loss: 1.3478, Val Loss: 1.2938\n",
            "\n",
            "Epoch 2/100\n",
            "Train Loss: 1.2238, Val Loss: 1.1487\n",
            "\n",
            "Epoch 3/100\n",
            "Train Loss: 1.0868, Val Loss: 1.0302\n",
            "\n",
            "Epoch 4/100\n",
            "Train Loss: 1.0004, Val Loss: 0.9539\n",
            "\n",
            "Epoch 5/100\n",
            "Train Loss: 0.9213, Val Loss: 0.8875\n",
            "\n",
            "Epoch 6/100\n",
            "Train Loss: 0.8735, Val Loss: 0.7606\n",
            "\n",
            "Epoch 7/100\n",
            "Train Loss: 0.7448, Val Loss: 0.7426\n",
            "\n",
            "Epoch 8/100\n",
            "Train Loss: 0.6626, Val Loss: 0.6707\n",
            "\n",
            "Epoch 9/100\n",
            "Train Loss: 0.6462, Val Loss: 0.5997\n",
            "\n",
            "Epoch 10/100\n",
            "Train Loss: 0.6203, Val Loss: 0.6760\n",
            "\n",
            "Epoch 11/100\n",
            "Train Loss: 0.5974, Val Loss: 0.5494\n",
            "\n",
            "Epoch 12/100\n",
            "Train Loss: 0.5854, Val Loss: 0.5109\n",
            "\n",
            "Epoch 13/100\n",
            "Train Loss: 0.5488, Val Loss: 0.5783\n",
            "\n",
            "Epoch 14/100\n",
            "Train Loss: 0.5770, Val Loss: 0.5076\n",
            "\n",
            "Epoch 15/100\n",
            "Train Loss: 0.5094, Val Loss: 0.5096\n",
            "\n",
            "Epoch 16/100\n",
            "Train Loss: 0.5025, Val Loss: 0.5655\n",
            "\n",
            "Epoch 17/100\n",
            "Train Loss: 0.5267, Val Loss: 0.4894\n",
            "\n",
            "Epoch 18/100\n",
            "Train Loss: 0.5281, Val Loss: 0.4599\n",
            "\n",
            "Epoch 19/100\n",
            "Train Loss: 0.5002, Val Loss: 0.5256\n",
            "\n",
            "Epoch 20/100\n",
            "Train Loss: 0.5340, Val Loss: 0.4393\n",
            "\n",
            "Epoch 21/100\n",
            "Train Loss: 0.4527, Val Loss: 0.5155\n",
            "\n",
            "Epoch 22/100\n",
            "Train Loss: 0.4710, Val Loss: 0.5627\n",
            "\n",
            "Epoch 23/100\n",
            "Train Loss: 0.4133, Val Loss: 0.3975\n",
            "\n",
            "Epoch 24/100\n",
            "Train Loss: 0.4020, Val Loss: 0.3955\n",
            "\n",
            "Epoch 25/100\n",
            "Train Loss: 0.4363, Val Loss: 0.4050\n",
            "\n",
            "Epoch 26/100\n",
            "Train Loss: 0.3814, Val Loss: 0.3160\n",
            "\n",
            "Epoch 27/100\n",
            "Train Loss: 0.3954, Val Loss: 0.3511\n",
            "\n",
            "Epoch 28/100\n",
            "Train Loss: 0.3363, Val Loss: 0.4192\n",
            "\n",
            "Epoch 29/100\n",
            "Train Loss: 0.3813, Val Loss: 0.3213\n",
            "\n",
            "Epoch 30/100\n",
            "Train Loss: 0.3368, Val Loss: 0.4132\n",
            "\n",
            "Epoch 31/100\n",
            "Train Loss: 0.3376, Val Loss: 0.3237\n",
            "\n",
            "Epoch 32/100\n",
            "Train Loss: 0.3267, Val Loss: 0.3058\n",
            "\n",
            "Epoch 33/100\n",
            "Train Loss: 0.3537, Val Loss: 0.3496\n",
            "\n",
            "Epoch 34/100\n",
            "Train Loss: 0.3666, Val Loss: 0.3055\n",
            "\n",
            "Epoch 35/100\n",
            "Train Loss: 0.2997, Val Loss: 0.2828\n",
            "\n",
            "Epoch 36/100\n",
            "Train Loss: 0.2922, Val Loss: 0.2321\n",
            "\n",
            "Epoch 37/100\n",
            "Train Loss: 0.3137, Val Loss: 0.2497\n",
            "\n",
            "Epoch 38/100\n",
            "Train Loss: 0.2847, Val Loss: 0.3223\n",
            "\n",
            "Epoch 39/100\n",
            "Train Loss: 0.2920, Val Loss: 0.2271\n",
            "\n",
            "Epoch 40/100\n",
            "Train Loss: 0.2648, Val Loss: 0.4296\n",
            "\n",
            "Epoch 41/100\n",
            "Train Loss: 0.2990, Val Loss: 0.2241\n",
            "\n",
            "Epoch 42/100\n",
            "Train Loss: 0.2491, Val Loss: 0.2624\n",
            "\n",
            "Epoch 43/100\n",
            "Train Loss: 0.2730, Val Loss: 0.1984\n",
            "\n",
            "Epoch 44/100\n",
            "Train Loss: 0.2671, Val Loss: 0.2138\n",
            "\n",
            "Epoch 45/100\n",
            "Train Loss: 0.2539, Val Loss: 0.2144\n",
            "\n",
            "Epoch 46/100\n",
            "Train Loss: 0.2088, Val Loss: 0.2406\n",
            "\n",
            "Epoch 47/100\n",
            "Train Loss: 0.2147, Val Loss: 0.1768\n",
            "\n",
            "Epoch 48/100\n",
            "Train Loss: 0.2495, Val Loss: 0.2047\n",
            "\n",
            "Epoch 49/100\n",
            "Train Loss: 0.2327, Val Loss: 0.1853\n",
            "\n",
            "Epoch 50/100\n",
            "Train Loss: 0.2479, Val Loss: 0.2153\n",
            "\n",
            "Epoch 51/100\n",
            "Train Loss: 0.2131, Val Loss: 0.1835\n",
            "\n",
            "Epoch 52/100\n",
            "Train Loss: 0.2410, Val Loss: 0.2709\n",
            "\n",
            "Epoch 53/100\n",
            "Train Loss: 0.2067, Val Loss: 0.1860\n",
            "\n",
            "Epoch 54/100\n",
            "Train Loss: 0.2034, Val Loss: 0.1649\n",
            "\n",
            "Epoch 55/100\n",
            "Train Loss: 0.2141, Val Loss: 0.2810\n",
            "\n",
            "Epoch 56/100\n",
            "Train Loss: 0.2202, Val Loss: 0.3312\n",
            "\n",
            "Epoch 57/100\n",
            "Train Loss: 0.2052, Val Loss: 0.1674\n",
            "\n",
            "Epoch 58/100\n",
            "Train Loss: 0.2167, Val Loss: 0.1597\n",
            "\n",
            "Epoch 59/100\n",
            "Train Loss: 0.2317, Val Loss: 0.1493\n",
            "\n",
            "Epoch 60/100\n",
            "Train Loss: 0.1913, Val Loss: 0.1637\n",
            "\n",
            "Epoch 61/100\n",
            "Train Loss: 0.1582, Val Loss: 0.2627\n",
            "\n",
            "Epoch 62/100\n",
            "Train Loss: 0.2158, Val Loss: 0.1486\n",
            "\n",
            "Epoch 63/100\n",
            "Train Loss: 0.1829, Val Loss: 0.2064\n",
            "\n",
            "Epoch 64/100\n",
            "Train Loss: 0.2240, Val Loss: 0.2153\n",
            "\n",
            "Epoch 65/100\n",
            "Train Loss: 0.2197, Val Loss: 0.2223\n",
            "\n",
            "Epoch 66/100\n",
            "Train Loss: 0.1968, Val Loss: 0.1760\n",
            "\n",
            "Epoch 67/100\n",
            "Train Loss: 0.2166, Val Loss: 0.1658\n",
            "\n",
            "Epoch 68/100\n",
            "Train Loss: 0.1752, Val Loss: 0.1348\n",
            "\n",
            "Epoch 69/100\n",
            "Train Loss: 0.2172, Val Loss: 0.1932\n",
            "\n",
            "Epoch 70/100\n",
            "Train Loss: 0.1660, Val Loss: 0.3105\n",
            "\n",
            "Epoch 71/100\n",
            "Train Loss: 0.1701, Val Loss: 0.1727\n",
            "\n",
            "Epoch 72/100\n",
            "Train Loss: 0.1898, Val Loss: 0.1567\n",
            "\n",
            "Epoch 73/100\n",
            "Train Loss: 0.1846, Val Loss: 0.1848\n",
            "\n",
            "Epoch 74/100\n",
            "Train Loss: 0.1370, Val Loss: 0.1421\n",
            "\n",
            "Epoch 75/100\n",
            "Train Loss: 0.1433, Val Loss: 0.1197\n",
            "\n",
            "Epoch 76/100\n",
            "Train Loss: 0.1587, Val Loss: 0.1333\n",
            "\n",
            "Epoch 77/100\n",
            "Train Loss: 0.1971, Val Loss: 0.1569\n",
            "\n",
            "Epoch 78/100\n",
            "Train Loss: 0.1311, Val Loss: 0.2030\n",
            "\n",
            "Epoch 79/100\n",
            "Train Loss: 0.1690, Val Loss: 0.1552\n",
            "\n",
            "Epoch 80/100\n",
            "Train Loss: 0.1907, Val Loss: 0.1681\n",
            "\n",
            "Epoch 81/100\n",
            "Train Loss: 0.1549, Val Loss: 0.1828\n",
            "\n",
            "Epoch 82/100\n",
            "Train Loss: 0.1559, Val Loss: 0.2723\n",
            "\n",
            "Epoch 83/100\n",
            "Train Loss: 0.1289, Val Loss: 0.1823\n",
            "\n",
            "Epoch 84/100\n",
            "Train Loss: 0.1690, Val Loss: 0.1316\n",
            "\n",
            "Epoch 85/100\n",
            "Train Loss: 0.1659, Val Loss: 0.2038\n",
            "\n",
            "Epoch 86/100\n",
            "Train Loss: 0.1511, Val Loss: 0.1187\n",
            "\n",
            "Epoch 87/100\n",
            "Train Loss: 0.1594, Val Loss: 0.1027\n",
            "\n",
            "Epoch 88/100\n",
            "Train Loss: 0.1661, Val Loss: 0.1203\n",
            "\n",
            "Epoch 89/100\n",
            "Train Loss: 0.1641, Val Loss: 0.1067\n",
            "\n",
            "Epoch 90/100\n",
            "Train Loss: 0.1387, Val Loss: 0.1029\n",
            "\n",
            "Epoch 91/100\n",
            "Train Loss: 0.1517, Val Loss: 0.2022\n",
            "\n",
            "Epoch 92/100\n",
            "Train Loss: 0.1789, Val Loss: 0.0748\n",
            "\n",
            "Epoch 93/100\n",
            "Train Loss: 0.1674, Val Loss: 0.1067\n",
            "\n",
            "Epoch 94/100\n",
            "Train Loss: 0.1558, Val Loss: 0.1061\n",
            "\n",
            "Epoch 95/100\n",
            "Train Loss: 0.1431, Val Loss: 0.3101\n",
            "\n",
            "Epoch 96/100\n",
            "Train Loss: 0.2364, Val Loss: 0.1976\n",
            "\n",
            "Epoch 97/100\n",
            "Train Loss: 0.1375, Val Loss: 0.0899\n",
            "\n",
            "Epoch 98/100\n",
            "Train Loss: 0.1513, Val Loss: 0.1298\n",
            "\n",
            "Epoch 99/100\n",
            "Train Loss: 0.1299, Val Loss: 0.0925\n",
            "\n",
            "Epoch 100/100\n",
            "Train Loss: 0.1527, Val Loss: 0.3479\n"
          ]
        }
      ],
      "source": [
        "def train(model, training, validation, lr=0.0001):\n",
        "    #criterion = nn.CrossEntropyLoss()\n",
        "    criterion = nn.CrossEntropyLoss(ignore_index=tokenizer.pad_token_id)\n",
        "\n",
        "    optimizer = torch.optim.Adam(model.parameters(), lr=lr)\n",
        "\n",
        "    train_losses = []\n",
        "    model.train()\n",
        "\n",
        "    for data in training:\n",
        "        input_seqs = data[\"input_ids\"]  # List of variable-length tensors\n",
        "        lengths = torch.tensor([len(seq) for seq in input_seqs], dtype=torch.int64)\n",
        "\n",
        "        padded_inputs = pad_sequence(input_seqs, batch_first=True, padding_value=tokenizer.pad_token_id).float().to(device)\n",
        "        padded_inputs = padded_inputs.unsqueeze(-1)  # (batch, seq_len, 1)\n",
        "        packed_inputs = pack_padded_sequence(padded_inputs, lengths, batch_first=True, enforce_sorted=False)\n",
        "\n",
        "        #labels = data[\"labels\"].squeeze().long().to(device)  # shape: (batch,) or (batch, num_classes) depending on output\n",
        "        labels = data[\"labels\"].view(-1).long().to(device)\n",
        "\n",
        "\n",
        "        optimizer.zero_grad()\n",
        "        outputs = model(packed_inputs)  # model should support PackedSequence input\n",
        "        loss = criterion(outputs, labels)\n",
        "        loss.backward()\n",
        "        torch.nn.utils.clip_grad_norm_(model.parameters(), max_norm=1.0)\n",
        "        if torch.isnan(loss):\n",
        "          print(\"NaN encountered in loss — skipping update\")\n",
        "          continue\n",
        "        optimizer.step()\n",
        "        train_losses.append(loss.item())\n",
        "\n",
        "    # Validation\n",
        "    validation_losses = []\n",
        "    model.eval()\n",
        "    with torch.no_grad():\n",
        "        for v_data in validation:\n",
        "            v_input_seqs = v_data[\"input_ids\"]\n",
        "            v_lengths = torch.tensor([len(seq) for seq in v_input_seqs], dtype=torch.int64)\n",
        "\n",
        "            v_padded = pad_sequence(v_input_seqs, batch_first=True, padding_value=tokenizer.pad_token_id).float().to(device)\n",
        "            v_padded = v_padded.unsqueeze(-1)\n",
        "            v_packed = pack_padded_sequence(v_padded, v_lengths, batch_first=True, enforce_sorted=False)\n",
        "\n",
        "            #v_labels = v_data[\"labels\"].to(device).long()\n",
        "            #v_labels = v_data[\"labels\"].squeeze().long().to(device)\n",
        "            v_labels = v_data[\"labels\"].view(-1).long().to(device)\n",
        "\n",
        "\n",
        "\n",
        "            v_output = model(v_packed)\n",
        "            v_loss = criterion(v_output, v_labels)\n",
        "            validation_losses.append(v_loss.item())\n",
        "\n",
        "    return train_losses, validation_losses\n",
        "\n",
        "\n",
        "\n",
        "\n",
        "\n",
        "# Train LSTM model\n",
        "# Initialize your model with correct input_size\n",
        "model = ComposerLSTM(input_size=1, hidden_size=128, num_layers=2, num_classes=4).to(device) ## changing hidden size from 4096 to 512, in second itereation updated num layers-2, hidden -128\n",
        "\n",
        "epochs = 100\n",
        "total_train_losses = []\n",
        "total_validation_losses = []\n",
        "\n",
        "for epoch in range(epochs):\n",
        "    print(f\"\\nEpoch {epoch+1}/{epochs}\")\n",
        "    train_loss, val_loss = train(model, dataloader_train, dataloader_valid)\n",
        "    total_train_losses.append(sum(train_loss) / len(train_loss))\n",
        "    total_validation_losses.append(sum(val_loss) / len(val_loss))\n",
        "\n",
        "    print(f\"Train Loss: {total_train_losses[-1]:.4f}, Val Loss: {total_validation_losses[-1]:.4f}\")\n"
      ]
    },
    {
      "cell_type": "code",
      "execution_count": null,
      "id": "4a5d9309",
      "metadata": {
        "colab": {
          "base_uri": "https://localhost:8080/",
          "height": 472
        },
        "id": "4a5d9309",
        "outputId": "e38a1d91-1cce-437a-f75b-4c8a92141e56"
      },
      "outputs": [
        {
          "data": {
            "image/png": "[encoded data removed]",
            "text/plain": [
              "<Figure size 640x480 with 1 Axes>"
            ]
          },
          "metadata": {},
          "output_type": "display_data"
        }
      ],
      "source": [
        "\"\"\"Plot training and validation losses\"\"\"\n",
        "plt.title(\"LSTM training losses\")\n",
        "plt.ylabel(\"Loss\")\n",
        "plt.xlabel(\"Epoch\")\n",
        "\n",
        "plt.plot(total_train_losses, label=\"Train loss\")\n",
        "plt.plot(total_validation_losses, label=\"Validation loss\")\n",
        "plt.legend()\n",
        "plt.show()"
      ]
    },
    {
      "cell_type": "markdown",
      "id": "fd4f9892",
      "metadata": {
        "id": "fd4f9892"
      },
      "source": [
        "Evaluate Model"
      ]
    },
    {
      "cell_type": "code",
      "execution_count": 112,
      "id": "e3060af3",
      "metadata": {
        "id": "e3060af3"
      },
      "outputs": [],
      "source": [
        "from torch.nn.utils.rnn import pad_sequence, pack_padded_sequence\n",
        "\n",
        "prediction = []\n",
        "truth = []\n",
        "\n",
        "with torch.no_grad():\n",
        "    for data in dataloader_test:\n",
        "        input_seqs = data[\"input_ids\"]\n",
        "        lengths = torch.tensor([len(seq) for seq in input_seqs], dtype=torch.int64)\n",
        "\n",
        "        padded_inputs = pad_sequence(input_seqs, batch_first=True, padding_value=tokenizer.pad_token_id).float().to(device)\n",
        "        padded_inputs = padded_inputs.unsqueeze(-1)\n",
        "\n",
        "        packed_inputs = pack_padded_sequence(padded_inputs, lengths, batch_first=True, enforce_sorted=False)\n",
        "\n",
        "        outputs = model(packed_inputs)\n",
        "        _, predicted = torch.max(outputs.data, 1)\n",
        "\n",
        "        labels = data[\"labels\"].squeeze().long().to(device)\n",
        "\n",
        "        prediction.append(predicted.cpu())\n",
        "        truth.append(labels.cpu())\n",
        "\n",
        "# Merge batches into a single tensor\n",
        "prediction = torch.cat(prediction)\n",
        "truth = torch.cat(truth)\n"
      ]
    },
    {
      "cell_type": "code",
      "execution_count": 113,
      "id": "MT6b5uCe4R5N",
      "metadata": {
        "colab": {
          "base_uri": "https://localhost:8080/"
        },
        "id": "MT6b5uCe4R5N",
        "outputId": "9f0fc99a-3975-4d62-8d7e-ea4c99757b97"
      },
      "outputs": [
        {
          "name": "stdout",
          "output_type": "stream",
          "text": [
            "Test Accuracy: 0.7562\n"
          ]
        }
      ],
      "source": [
        "from sklearn.metrics import accuracy_score\n",
        "acc = accuracy_score(truth, prediction)\n",
        "print(f\"Test Accuracy: {acc:.4f}\")\n"
      ]
    },
    {
      "cell_type": "code",
      "execution_count": 114,
      "id": "bccce7e4",
      "metadata": {
        "colab": {
          "base_uri": "https://localhost:8080/"
        },
        "id": "bccce7e4",
        "outputId": "56ea944d-365b-49b0-e0fe-6a6621afe39d"
      },
      "outputs": [
        {
          "name": "stdout",
          "output_type": "stream",
          "text": [
            "Model Accuracy: tensor(0.7562)\n",
            "Model Precision: tensor(0.6660)\n",
            "Model Recall: tensor(0.5948)\n",
            "Model F1: tensor(0.6157)\n"
          ]
        }
      ],
      "source": [
        "\"\"\"Create performance metrics\"\"\"\n",
        "accuracy = Accuracy(task=\"multiclass\", num_classes=4)\n",
        "precision = Precision(task=\"multiclass\", average=\"macro\", num_classes=4)\n",
        "recall = Recall(task=\"multiclass\", average=\"macro\", num_classes=4)\n",
        "f1_score = F1Score(task=\"multiclass\", average=\"macro\", num_classes=4)\n",
        "confusion_matric = ConfusionMatrix(task=\"multiclass\", num_classes=4)\n",
        "\n",
        "calculated_accuracy = accuracy(truth, prediction)\n",
        "calculated_precision = precision(truth, prediction)\n",
        "calculated_recall = recall(truth, prediction)\n",
        "calculated_f1_score = f1_score(truth, prediction)\n",
        "calculated_confusion_matric = confusion_matric(truth, prediction)\n",
        "\n",
        "print(\"Model Accuracy:\", calculated_accuracy)\n",
        "print(\"Model Precision:\", calculated_precision)\n",
        "print(\"Model Recall:\", calculated_recall)\n",
        "print(\"Model F1:\", calculated_f1_score)"
      ]
    },
    {
      "cell_type": "code",
      "execution_count": 115,
      "id": "89819083",
      "metadata": {
        "colab": {
          "base_uri": "https://localhost:8080/",
          "height": 508
        },
        "id": "89819083",
        "outputId": "fb5dafd9-23b3-442b-c21d-805358a0ae6a"
      },
      "outputs": [
        {
          "data": {
            "image/png": "[encoded data removed]",
            "text/plain": [
              "<Figure size 640x480 with 1 Axes>"
            ]
          },
          "metadata": {},
          "output_type": "display_data"
        }
      ],
      "source": [
        "\"\"\"Vizulaize confusion matrix\"\"\"\n",
        "metric = MulticlassConfusionMatrix(num_classes=4)\n",
        "metric.update(truth, prediction)\n",
        "fig_, ax_ = metric.plot()"
      ]
    },
    {
      "cell_type": "code",
      "execution_count": 116,
      "id": "Oa3dSkyPr2Ri",
      "metadata": {
        "colab": {
          "base_uri": "https://localhost:8080/",
          "height": 452
        },
        "id": "Oa3dSkyPr2Ri",
        "outputId": "f9a8a0a9-dcfe-4409-a727-e82e7160d337"
      },
      "outputs": [
        {
          "data": {
            "image/png": "[encoded data removed]",
            "text/plain": [
              "<Figure size 640x480 with 1 Axes>"
            ]
          },
          "metadata": {},
          "output_type": "display_data"
        }
      ],
      "source": [
        "import matplotlib.pyplot as plt\n",
        "plt.hist(truth.cpu().numpy(), bins=32)\n",
        "plt.title(\"Label Distribution\")\n",
        "plt.show()\n"
      ]
    },
    {
      "cell_type": "markdown",
      "id": "d4efe8a6",
      "metadata": {
        "id": "d4efe8a6"
      },
      "source": [
        "Optimize hyperparameters"
      ]
    },
    {
      "cell_type": "markdown",
      "id": "45271c0a",
      "metadata": {
        "id": "45271c0a"
      },
      "source": [
        "Changes made to bring the accuracy from 38% to 75%:\n",
        "\n",
        "* Switched from manual padding to packed sequences Using pack_padded_sequence improved efficiency and performance by avoiding computation on unnecessary padding tokens, which previously degraded learning quality.\n",
        "\n",
        "* Model architecture tuning Increasing epochs to 100, setting hidden_size=128, and using 2 LSTM layers provided better capacity and representation learning, leading to improved accuracy.\n",
        "\n",
        "* Gradient clipping was later used to stabilize training.\n",
        "\n",
        "* Introduced Bidirectional LSTM Using a bidirectional LSTM improved the model’s ability to capture context from both past and future tokens. This helped in understanding musical structure more holistically, leading to better generalization and higher accuracy.Manual padding has decreased the efficiency as compared to Packed sequence, because we avoid the unnecessary padding to the max size."
      ]
    }
  ],
  "metadata": {
    "accelerator": "GPU",
    "colab": {
      "gpuType": "T4",
      "provenance": []
    },
    "kernelspec": {
      "display_name": "Python 3",
      "name": "python3"
    },
    "language_info": {
      "codemirror_mode": {
        "name": "ipython",
        "version": 3
      },
      "file_extension": ".py",
      "mimetype": "text/x-python",
      "name": "python",
      "nbconvert_exporter": "python",
      "pygments_lexer": "ipython3",
      "version": "3.10.12"
    }
  },
  "nbformat": 4,
  "nbformat_minor": 5
}
