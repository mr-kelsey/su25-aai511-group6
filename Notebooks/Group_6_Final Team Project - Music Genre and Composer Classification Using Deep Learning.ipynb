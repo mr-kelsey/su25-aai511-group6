{
 "cells": [
  {
   "cell_type": "markdown",
   "id": "9d5b0387",
   "metadata": {},
   "source": [
    "# Introduction\n",
    "\n",
    "Music is a form of art that is ubiquitous and has a rich history. Different composers have created music with their unique styles and compositions. However, identifying the composer of a particular piece of music can be a challenging task, especially for novice musicians or listeners. The proposed project aims to use deep learning techniques to identify the composer of a given piece of music accurately.\n",
    "\n",
    "# Objective\n",
    "\n",
    "The primary objective of this project is to develop a deep learning model that can predict the composer of a given musical score accurately. The project aims to accomplish this objective by using two deep learning techniques: Long Short-Term Memory (LSTM) and Convolutional Neural Network (CNN).\n",
    "\n",
    "## Code"
   ]
  },
  {
   "cell_type": "code",
   "execution_count": null,
   "id": "e4825157",
   "metadata": {},
   "outputs": [],
   "source": [
    "\"\"\"Imports\"\"\"\n",
    "import cv2\n",
    "import librosa\n",
    "import matplotlib.pyplot as plt\n",
    "import numpy as np\n",
    "import pandas as pd\n",
    "import torch\n",
    "import torch.nn as nn\n",
    "\n",
    "from midi2audio import FluidSynth\n",
    "from miditok import REMI, TokenizerConfig\n",
    "from miditok.data_augmentation import augment_dataset\n",
    "from miditok.utils import split_files_for_training\n",
    "from pathlib import Path\n",
    "from random import sample, seed as random_seed\n",
    "from torch.utils.data import DataLoader, Dataset, random_split\n",
    "from torchmetrics import Accuracy, Precision, Recall, F1Score, ConfusionMatrix\n",
    "from torchmetrics.classification import MulticlassConfusionMatrix\n",
    "from torchvision import transforms\n",
    "from torchvision.io import decode_image"
   ]
  },
  {
   "cell_type": "code",
   "execution_count": 2,
   "id": "d31e8e45",
   "metadata": {},
   "outputs": [
    {
     "name": "stdout",
     "output_type": "stream",
     "text": [
      "Using device: cpu\n"
     ]
    }
   ],
   "source": [
    "\"\"\"Set seeds and device\"\"\"\n",
    "random_seed(73)\n",
    "np.random.seed(73)\n",
    "torch.manual_seed(73)\n",
    "if torch.cuda.is_available():\n",
    "    torch.cuda.manual_seed_all(73)\n",
    "\n",
    "device = torch.device(\"cuda\" if torch.cuda.is_available() else \"cpu\")\n",
    "print(f\"Using device: {device}\")"
   ]
  },
  {
   "cell_type": "markdown",
   "id": "fb0856f4",
   "metadata": {},
   "source": [
    "### Data Collection: Data is collected and provided to you."
   ]
  },
  {
   "cell_type": "code",
   "execution_count": 23,
   "id": "f40785d4",
   "metadata": {},
   "outputs": [
    {
     "data": {
      "text/plain": [
       "\"Include data EDA from Anitra's branch here\""
      ]
     },
     "execution_count": 23,
     "metadata": {},
     "output_type": "execute_result"
    }
   ],
   "source": [
    "\"\"\"Include data EDA from Anitra's branch here\"\"\""
   ]
  },
  {
   "cell_type": "markdown",
   "id": "8e612d58",
   "metadata": {},
   "source": [
    "### Data Pre-processing: Convert the musical scores into a format suitable for deep learning models. This involves converting the musical scores into MIDI files and applying data augmentation techniques."
   ]
  },
  {
   "cell_type": "code",
   "execution_count": null,
   "id": "84940240",
   "metadata": {},
   "outputs": [
    {
     "name": "stdout",
     "output_type": "stream",
     "text": [
      "Bach:\n",
      "Splitting music files: 100%|██████████| 10/10 [00:10<00:00, 79.55it/s]\n",
      "Performing data augmentation: 100%|██████████| 108/108 [00:24<00:00, 500.35it/s]\n",
      "Beethoven:\n",
      "Splitting music files: 100%|██████████| 2/2 [00:02<00:00, 98.92it/s]\n",
      "Performing data augmentation: 100%|██████████| 51/51 [00:27<00:00, 460.36it/s]\n",
      "Chopin:\n",
      "Splitting music files: 100%|██████████| 1/1 [00:01<00:00, 131.18it/s]\n",
      "Performing data augmentation: 100%|██████████| 15/15 [01:38<00:00, 119.72it/s]\n",
      "Mozart:\n",
      "Splitting music files: 100%|██████████| 2/2 [00:02<00:00, 104.82it/s]\n",
      "Performing data augmentation: 100%|██████████| 21/21 [00:04<00:00, 527.91it/s]\n"
     ]
    }
   ],
   "source": [
    "\"\"\"Train a tokenizer on each composer, split the data by number of tokens and augment the data\"\"\"\n",
    "config = TokenizerConfig(use_chords=True, use_rests=True, use_tempos=True, use_programs=True, one_token_stream_for_programs=False)\n",
    "tokenizer = REMI(config)\n",
    "\n",
    "DATA_PATH = Path(Path.cwd().parent, \"Data\")\n",
    "RETAIN = 100\n",
    "\n",
    "for composer in [\"Bach\", \"Beethoven\", \"Chopin\", \"Mozart\"]:\n",
    "\tprint(f\"{composer}:\")\n",
    "\tmidi_path = list(Path(DATA_PATH, \"Raw\").glob(f\"{composer}/*.mid\"))\n",
    "\ttokenizer.train(vocab_size=500, files_paths=midi_path)\n",
    "\tsubset_chunks_dir = Path(DATA_PATH, \"Augmented\", composer)\n",
    "\t\n",
    "\tsplit_files_for_training(\n",
    "        files_paths=midi_path,\n",
    "        tokenizer=tokenizer,\n",
    "        save_dir=subset_chunks_dir,\n",
    "        max_seq_len=1024,\n",
    "        num_overlap_bars=2,\n",
    "\t\tmin_seq_len=1024\n",
    "    )\n",
    "\n",
    "\taugment_dataset(\n",
    "\t\tsubset_chunks_dir,\n",
    "\t\tpitch_offsets=[-6, 6],\n",
    "\t\tvelocity_offsets=[-4, 4],\n",
    "\t\tduration_offsets=[-0.2, 0.2],\n",
    "\t\tsave_data_aug_report=False,\n",
    "\t)\n",
    "\n",
    "\t# use RETAIN as upper bound of song count and remove excess at random to balance composer data\n",
    "\tall_files = list(Path(subset_chunks_dir).glob(\"*.mid\"))\n",
    "\tcomposer_sample = sample(all_files, len(all_files) - RETAIN)\n",
    "\tfor file_name in composer_sample:\n",
    "\t\tfile_name.unlink()"
   ]
  },
  {
   "cell_type": "markdown",
   "id": "1174a1b9",
   "metadata": {},
   "source": [
    "### Feature Extraction: Extract features from the MIDI files, such as notes, chords, and tempo, using music analysis tools."
   ]
  },
  {
   "cell_type": "markdown",
   "id": "56fe66b7",
   "metadata": {},
   "source": [
    "Notes, chords, and tempos were all extracted as part of the tokenization process for splitting and augmenting.  However, we plan to use image data for this project so we will include our process for extracting the relavant data to build the image feature here."
   ]
  },
  {
   "cell_type": "code",
   "execution_count": null,
   "id": "b8d91704",
   "metadata": {},
   "outputs": [
    {
     "name": "stdout",
     "output_type": "stream",
     "text": [
      "FluidSynth runtime version 2.2.5\n",
      "Copyright (C) 2000-2022 Peter Hanappe and others.\n",
      "Distributed under the LGPL license.\n",
      "SoundFont(R) is a registered trademark of Creative Technology Ltd.\n"
     ]
    }
   ],
   "source": [
    "\"\"\"Convert midi file to spectrogram images and create mapping csv for classification\"\"\"\n",
    "def scale_minmax(data, minimum, maximum):\n",
    "    data_min, data_max = data.min(), data.max()\n",
    "    std = (data - data_min) / (data_max - data_min)\n",
    "    return std * (maximum - minimum) + minimum\n",
    "\n",
    "def save_spectrogram_image(data, sampling_rate, out, hop_length, n_mels):\n",
    "    mels = librosa.feature.melspectrogram(y=data, sr=sampling_rate, n_mels=n_mels,\n",
    "                                            n_fft=hop_length*2, hop_length=hop_length)\n",
    "    mels = np.log(mels + 1e-9) # avoid log(0) error\n",
    "\n",
    "    img = scale_minmax(mels, 0, 255).astype(np.uint8)\n",
    "    img = np.flip(img, axis=0)\n",
    "    img = 255-img\n",
    "\n",
    "    cv2.imwrite(out, img)\n",
    "    \n",
    "def get_composer_class(composer):\n",
    "\tif \"Bach\" in composer:\n",
    "\t\treturn 0\n",
    "\telif \"Beethoven\" in composer:\n",
    "\t\treturn 1\n",
    "\telif \"Chopin\" in composer:\n",
    "\t\treturn 2\n",
    "\telif \"Mozart\" in composer:\n",
    "\t\treturn 3\n",
    "\telse:\n",
    "\t\traise NameError\n",
    "\n",
    "fluidsynth = FluidSynth()\n",
    "DATA_PATH = Path(Path.cwd().parent, \"Data\")\n",
    "spectrogram_midi_path = list(Path(DATA_PATH, \"Augmented\").glob(f\"**/*.mid\"))\n",
    "spectrogram_path = Path(DATA_PATH, \"Spectrogram\")\n",
    "labels = pd.DataFrame(columns=[\"filename\", \"class\"])\n",
    "\n",
    "for midi in spectrogram_midi_path:\n",
    "\tcomposer, filename = midi.parts[-2:]\n",
    "\taudio_filename = Path(spectrogram_path, filename.replace(\".mid\", \".flac\"))\n",
    "\toutput_filename = Path(spectrogram_path, filename.replace(\".mid\", \".png\"))\n",
    "\tfluidsynth.midi_to_audio(midi, audio_filename)\n",
    "\n",
    "\taudio, fs = librosa.load(audio_filename, sr=None)\n",
    "     \n",
    "\ttime_steps = 384 # number of time-steps\n",
    "\thop_length = 512 # Samples per time-step\n",
    "\tn_mels = 128 # Height of image\n",
    "    \n",
    "\tsave_spectrogram_image(audio[:time_steps*hop_length], sampling_rate=fs, out=output_filename, hop_length=hop_length, n_mels=n_mels)\n",
    "\taudio_filename.unlink()\n",
    "\tfilename = output_filename.parts[-1]\n",
    "\ttry:\n",
    "\t\tclassification = get_composer_class(composer)\n",
    "\texcept NameError:\n",
    "\t\tprint(output_filename)\n",
    "\t\t\n",
    "\tlabels.loc[len(labels)] = [filename, classification]\n",
    "\n",
    "labels.to_csv(Path(DATA_PATH, \"Spectrogram\", \"all.csv\"))"
   ]
  },
  {
   "cell_type": "code",
   "execution_count": 3,
   "id": "9abdc3fa",
   "metadata": {},
   "outputs": [],
   "source": [
    "\"\"\"Custom classes for loading data through dataloader as adapted from https://docs.pytorch.org/tutorials/beginner/data_loading_tutorial.html\"\"\"\n",
    "class SpectrogramDataset(Dataset):\n",
    "    def __init__(self, annotations_file, img_dir, transform=None, target_transform=None):\n",
    "        self.img_labels = pd.read_csv(annotations_file)\n",
    "        self.img_dir = img_dir\n",
    "        self.transform = transform\n",
    "        self.target_transform = target_transform\n",
    "\n",
    "    def __len__(self):\n",
    "        return len(self.img_labels)\n",
    "\n",
    "    def __getitem__(self, idx):\n",
    "        img_path = Path(self.img_dir, self.img_labels.iloc[idx, 1])\n",
    "        image = decode_image(img_path)\n",
    "        label = self.img_labels.iloc[idx, 2]\n",
    "        if self.transform:\n",
    "            image = self.transform(image)\n",
    "        if self.target_transform:\n",
    "            label = self.target_transform(label)\n",
    "        return image, label"
   ]
  },
  {
   "cell_type": "code",
   "execution_count": 5,
   "id": "6a969030",
   "metadata": {},
   "outputs": [
    {
     "data": {
      "text/plain": [
       "<torch.utils.data.dataset.Subset at 0x7f0a6d9e9b70>"
      ]
     },
     "execution_count": 5,
     "metadata": {},
     "output_type": "execute_result"
    }
   ],
   "source": [
    "\"\"\"Load data using custom class defined above and split into train/validate/test datasets\"\"\"\n",
    "DATA_PATH = Path(Path.cwd().parent, \"Data\")\n",
    "data_transformers=transforms.Compose([transforms.ToPILImage(),\n",
    "                                      transforms.ToTensor()])\n",
    "\n",
    "leaf_dataset = SpectrogramDataset(annotations_file=Path(DATA_PATH, \"Spectrogram\", \"all.csv\"), img_dir=Path(DATA_PATH, \"Spectrogram\"), transform=data_transformers)\n",
    "train_dataset, valid_dataset, test_dataset = random_split(leaf_dataset, [0.6, 0.2, 0.2])\n",
    "\n",
    "train_dataset"
   ]
  },
  {
   "cell_type": "code",
   "execution_count": 6,
   "id": "0cceec86",
   "metadata": {},
   "outputs": [
    {
     "data": {
      "text/plain": [
       "<torch.utils.data.dataloader.DataLoader at 0x7f0a6dc9de40>"
      ]
     },
     "execution_count": 6,
     "metadata": {},
     "output_type": "execute_result"
    }
   ],
   "source": [
    "\"\"\"Convert those datasets into batch loaders\"\"\"\n",
    "train_loader = DataLoader(train_dataset, batch_size=64, shuffle=True)\n",
    "valid_loader = DataLoader(valid_dataset, batch_size=64, shuffle=True)\n",
    "test_loader = DataLoader(test_dataset, batch_size=64)\n",
    "\n",
    "train_loader"
   ]
  },
  {
   "cell_type": "markdown",
   "id": "eb251215",
   "metadata": {},
   "source": [
    "### Model Building: Develop a deep learning model using LSTM and CNN architectures to classify the musical scores according to the composer."
   ]
  },
  {
   "cell_type": "code",
   "execution_count": null,
   "id": "5e6f5612",
   "metadata": {},
   "outputs": [],
   "source": [
    "\"\"\"Combined CNN-LSTM architecture as adapted from https://www.mathworks.com/help/deeplearning/ug/sequence-classification-using-cnn-lstm-network.html\"\"\"\n",
    "class ComposerClassifier(nn.Module):\n",
    "    def __init__(self, input_size, filter_size, num_filters, num_hidden_units, num_classes):\n",
    "        super(ComposerClassifier, self).__init__()\n",
    "        self.convolve = nn.Sequential(\n",
    "            nn.Conv2d(in_channels=input_size, out_channels=num_filters, kernel_size=filter_size, padding=\"same\"),\n",
    "            nn.BatchNorm2d(num_filters),\n",
    "            nn.ReLU(),\n",
    "            nn.MaxPool2d(kernel_size=2, stride=2),\n",
    "\n",
    "            nn.Conv2d(in_channels=num_filters, out_channels=num_filters, kernel_size=filter_size, padding=\"same\"),\n",
    "            nn.BatchNorm2d(num_filters),\n",
    "            nn.ReLU(),\n",
    "            nn.MaxPool2d(kernel_size=(4, 2), stride=(4, 2)),\n",
    "\n",
    "            nn.Conv2d(in_channels=num_filters, out_channels=2*num_filters, kernel_size=filter_size, padding=\"same\"),\n",
    "            nn.BatchNorm2d(2*num_filters),\n",
    "            nn.ReLU(),\n",
    "            nn.MaxPool2d(kernel_size=(4, 2), stride=(4, 2)),\n",
    "\n",
    "            nn.Conv2d(in_channels=2*num_filters, out_channels=2*num_filters, kernel_size=filter_size, padding=\"same\"),\n",
    "            nn.BatchNorm2d(2*num_filters),\n",
    "            nn.ReLU(),\n",
    "            nn.MaxPool2d(kernel_size=(4, 2), stride=(4, 2)),\n",
    "\n",
    "            nn.Flatten(),\n",
    "        )\n",
    "        self.lstm = nn.LSTM(input_size=3072, hidden_size=256, batch_first=True)\n",
    "        self.linear = nn.Linear(num_hidden_units, num_classes)\n",
    "        self.softmax = nn.Softmax(dim=1)\n",
    "\n",
    "    def forward(self, x):\n",
    "        x = self.convolve(x)\n",
    "        x, (h, c) = self.lstm(x)\n",
    "        x = self.linear(x)\n",
    "        return self.softmax(x)"
   ]
  },
  {
   "cell_type": "markdown",
   "id": "901dd85f",
   "metadata": {},
   "source": [
    "### Model Training: Train the deep learning model using the pre-processed and feature-extracted data."
   ]
  },
  {
   "cell_type": "code",
   "execution_count": null,
   "id": "cc22ca8c",
   "metadata": {},
   "outputs": [
    {
     "name": "stdout",
     "output_type": "stream",
     "text": [
      "Epoch 10, train loss: 1.2554, validation loss: 1.3005\n",
      "Epoch 20, train loss: 0.9682, validation loss: 1.3753\n",
      "Epoch 30, train loss: 0.8815, validation loss: 1.4176\n",
      "Epoch 40, train loss: 0.8585, validation loss: 1.1937\n",
      "Epoch 50, train loss: 0.8351, validation loss: 1.0254\n",
      "Epoch 60, train loss: 0.7743, validation loss: 1.0402\n",
      "Epoch 70, train loss: 0.7620, validation loss: 0.9738\n",
      "Epoch 80, train loss: 0.7544, validation loss: 0.7573\n",
      "Epoch 90, train loss: 0.7476, validation loss: 1.0185\n",
      "Epoch 100, train loss: 0.7444, validation loss: 0.7440\n",
      "Epoch 110, train loss: 0.7472, validation loss: 0.7799\n",
      "Epoch 120, train loss: 0.7444, validation loss: 0.7444\n",
      "Epoch 130, train loss: 0.7437, validation loss: 0.7598\n",
      "Epoch 140, train loss: 0.7437, validation loss: 0.7596\n",
      "Epoch 150, train loss: 0.7437, validation loss: 0.7507\n",
      "Epoch 160, train loss: 0.7437, validation loss: 0.7507\n",
      "Epoch 170, train loss: 0.7437, validation loss: 0.7458\n",
      "Epoch 180, train loss: 0.7437, validation loss: 0.7472\n",
      "Epoch 190, train loss: 0.7437, validation loss: 0.7478\n",
      "Epoch 200, train loss: 0.7437, validation loss: 0.7457\n",
      "Epoch 210, train loss: 0.7437, validation loss: 0.7447\n",
      "Epoch 220, train loss: 0.7437, validation loss: 0.7453\n",
      "Epoch 230, train loss: 0.7437, validation loss: 0.7464\n",
      "Epoch 240, train loss: 0.7437, validation loss: 0.7495\n",
      "Epoch 250, train loss: 0.7437, validation loss: 0.7501\n",
      "Epoch 260, train loss: 0.7437, validation loss: 0.7477\n",
      "Epoch 270, train loss: 0.7437, validation loss: 0.7449\n",
      "Epoch 280, train loss: 0.7437, validation loss: 0.7437\n",
      "Epoch 290, train loss: 0.7437, validation loss: 0.7459\n",
      "Epoch 300, train loss: 0.7437, validation loss: 0.7462\n"
     ]
    }
   ],
   "source": [
    "\"\"\"Define training loop for CNN-LSTM model\"\"\"\n",
    "def train(model, training, validation, lr=0.001):\n",
    "\tcriterion = nn.CrossEntropyLoss()\n",
    "\toptimizer = torch.optim.Adam(model.parameters(), lr=lr)\n",
    "\t\n",
    "\ttrain_losses = []\n",
    "\tfor inputs, labels in training:\n",
    "\t\tmodel.train()\n",
    "\t\toptimizer.zero_grad()\n",
    "\t\toutput = model(inputs)\n",
    "\t\tloss = criterion(output, labels)\n",
    "\t\tloss.backward()\n",
    "\t\toptimizer.step()\n",
    "\t\ttrain_losses.append(loss.item())\n",
    "\t\tbreak\n",
    "\n",
    "\tvalidation_losses = []\n",
    "\twith torch.no_grad():\n",
    "\t\tfor v_inputs, v_labels in validation:\n",
    "\t\t\tmodel.eval()\n",
    "\t\t\tv_output = model(v_inputs)\n",
    "\t\t\tvalidation_loss = criterion(v_output, v_labels)\t\n",
    "\t\t\tvalidation_losses.append(validation_loss.item())\n",
    "\t\t\tbreak\n",
    "\treturn train_losses, validation_losses\n",
    "\n",
    "# Train CNN-LSTM model\n",
    "epochs = 300\n",
    "model = ComposerClassifier(input_size=1, filter_size=3, num_filters=64, num_hidden_units=256, num_classes=4)\n",
    "\n",
    "total_train_losses = []\n",
    "total_validation_losses = []\n",
    "\n",
    "for epoch in range(epochs):\n",
    "\tepoch_train_loss, epoch_validation_loss = train(model, train_loader, valid_loader)\n",
    "\ttotal_train_losses.extend(epoch_train_loss)\n",
    "\ttotal_validation_losses.extend(epoch_validation_loss)\n",
    "\tif (epoch + 1) % 10 == 0:\n",
    "\t\tprint(f\"Epoch {epoch + 1}, train loss: {epoch_train_loss[-1]:.4f}, validation loss: {epoch_validation_loss[-1]:.4f}\")"
   ]
  },
  {
   "cell_type": "code",
   "execution_count": 16,
   "id": "36087d48",
   "metadata": {},
   "outputs": [
    {
     "data": {
      "image/png": "[encoded data removed]",
      "text/plain": [
       "<Figure size 640x480 with 1 Axes>"
      ]
     },
     "metadata": {},
     "output_type": "display_data"
    }
   ],
   "source": [
    "\"\"\"Plot training and Validation losses\"\"\"\n",
    "plt.title(\"LSTM training losses\")\n",
    "plt.ylabel(\"Loss\")\n",
    "plt.xlabel(\"Epoch\")\n",
    "\n",
    "plt.plot(total_train_losses, label=\"Train loss\")\n",
    "plt.plot(total_validation_losses, label=\"Validation loss\")\n",
    "plt.legend()\n",
    "plt.show()"
   ]
  },
  {
   "cell_type": "markdown",
   "id": "ae324c13",
   "metadata": {},
   "source": [
    "### Model Evaluation: Evaluate the performance of the deep learning model using accuracy, precision, and recall metrics."
   ]
  },
  {
   "cell_type": "code",
   "execution_count": 18,
   "id": "142a87e9",
   "metadata": {},
   "outputs": [
    {
     "name": "stdout",
     "output_type": "stream",
     "text": [
      "torch.Size([80])\n"
     ]
    }
   ],
   "source": [
    "\"\"\"Create tensors to use in performance metric creation\"\"\"\n",
    "prediction = torch.Tensor()\n",
    "truth = torch.Tensor()\n",
    "\n",
    "with torch.no_grad():\n",
    "    for inputs, labels in test_loader:\n",
    "        outputs = model(inputs)\n",
    "        _, predicted = torch.max(outputs.data, 1)\n",
    "        prediction = torch.cat([prediction, predicted], dim=0)\n",
    "        truth = torch.cat([truth, labels], dim=0)\n",
    "        \n",
    "assert prediction.shape == truth.shape\n",
    "print(prediction.shape)"
   ]
  },
  {
   "cell_type": "code",
   "execution_count": null,
   "id": "3c4d1709",
   "metadata": {},
   "outputs": [
    {
     "name": "stdout",
     "output_type": "stream",
     "text": [
      "Model Accuracy: tensor(0.9750)\n",
      "Model Precision: tensor(0.9755)\n",
      "Model Recall: tensor(0.9749)\n",
      "Model F1: tensor(0.9745)\n"
     ]
    }
   ],
   "source": [
    "\"\"\"Create performance metrics\"\"\"\n",
    "accuracy = Accuracy(task=\"multiclass\", num_classes=32)\n",
    "precision = Precision(task=\"multiclass\", average=\"macro\", num_classes=32)\n",
    "recall = Recall(task=\"multiclass\", average=\"macro\", num_classes=32)\n",
    "f1_score = F1Score(task=\"multiclass\", average=\"macro\", num_classes=32)\n",
    "confusion_matric = ConfusionMatrix(task=\"multiclass\", num_classes=32)\n",
    "\n",
    "calculated_accuracy = accuracy(truth, prediction)\n",
    "calculated_precision = precision(truth, prediction)\n",
    "calculated_recall = recall(truth, prediction)\n",
    "calculated_f1_score = f1_score(truth, prediction)\n",
    "calculated_confusion_matric = confusion_matric(truth, prediction)\n",
    "\n",
    "print(\"Model Accuracy:\", calculated_accuracy)\n",
    "print(\"Model Precision:\", calculated_precision)\n",
    "print(\"Model Recall:\", calculated_recall)\n",
    "print(\"Model F1:\", calculated_f1_score)"
   ]
  },
  {
   "cell_type": "code",
   "execution_count": null,
   "id": "05a7469d",
   "metadata": {},
   "outputs": [
    {
     "data": {
      "image/png": "[encoded data removed]",
      "text/plain": [
       "<Figure size 640x480 with 1 Axes>"
      ]
     },
     "metadata": {},
     "output_type": "display_data"
    }
   ],
   "source": [
    "\"\"\"Vizulaize confusion matrix\"\"\"\n",
    "metric = MulticlassConfusionMatrix(num_classes=4)\n",
    "metric.update(truth, prediction)\n",
    "fig_, ax_ = metric.plot()"
   ]
  },
  {
   "cell_type": "markdown",
   "id": "2d7874bb",
   "metadata": {},
   "source": [
    "### Model Optimization: Optimize the deep learning model by fine-tuning hyperparameters."
   ]
  },
  {
   "cell_type": "code",
   "execution_count": 24,
   "id": "32a343e0",
   "metadata": {},
   "outputs": [
    {
     "data": {
      "text/plain": [
       "'Optimizations to come...'"
      ]
     },
     "execution_count": 24,
     "metadata": {},
     "output_type": "execute_result"
    }
   ],
   "source": [
    "\"\"\"Optimizations to come...\"\"\""
   ]
  },
  {
   "cell_type": "markdown",
   "id": "86137088",
   "metadata": {},
   "source": [
    "## Findings"
   ]
  }
 ],
 "metadata": {
  "kernelspec": {
   "display_name": "Python 3",
   "language": "python",
   "name": "python3"
  },
  "language_info": {
   "codemirror_mode": {
    "name": "ipython",
    "version": 3
   },
   "file_extension": ".py",
   "mimetype": "text/x-python",
   "name": "python",
   "nbconvert_exporter": "python",
   "pygments_lexer": "ipython3",
   "version": "3.10.12"
  }
 },
 "nbformat": 4,
 "nbformat_minor": 5
}
